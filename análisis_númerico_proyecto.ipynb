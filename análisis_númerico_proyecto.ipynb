{
  "nbformat": 4,
  "nbformat_minor": 0,
  "metadata": {
    "colab": {
      "provenance": [],
      "collapsed_sections": [
        "5jAWEmmrTdct"
      ]
    },
    "kernelspec": {
      "name": "python3",
      "display_name": "Python 3"
    },
    "language_info": {
      "name": "python"
    }
  },
  "cells": [
    {
      "cell_type": "markdown",
      "source": [
        "# Análisis Númerico Proyecto"
      ],
      "metadata": {
        "id": "v9p1XeWoV1bT"
      }
    },
    {
      "cell_type": "markdown",
      "source": [
        "\n",
        "\n",
        "\n",
        "*   Morales Ramirez Angel Francisco\n",
        "*   Zuñiga Galván Diego Antonio\n",
        "\n"
      ],
      "metadata": {
        "id": "OJxXVrdxV8Zm"
      }
    },
    {
      "cell_type": "markdown",
      "source": [
        "## Instrucciones"
      ],
      "metadata": {
        "id": "kKtbcfAyWxi-"
      }
    },
    {
      "cell_type": "markdown",
      "source": [
        "Van a utilizar el polinomio de Lagrange que vimos en la sesión pasada para modelar lo siguiente:\n",
        "En el archivo anexo viene la información del I.N.P.C. (Índice Nacional de Precios al Consumidor) mensual.\n",
        "1. Clasifiquen la información por fecha y en función de cada concepto\n",
        "2. Con base a lo anterior modelen por cada concepto con el polinomio mínimo de Lagrange para proporcionar información relacionada a dicho rubro, desde la fecha más antigua a la más reciente.\n",
        "3. Con base a sus conocimientos de matemáticas explique brevemente el desarrollo de dichas gráficas.\n",
        "4. La modelación la requiero en Julia, argumentando el razonamiento que han empleado.\n",
        "5. Investigue que significa el INCP citando la bibliografía correspondiente, una vez que hacen eso planteen el presente problema y plasmen los resultados en LaTex, donde tendrá que llevar titulo, índice, desarrollo, la argumentación de la metodología, el desarrollo del programa, análisis de la información, conclusiones y bibliografía.\n",
        "6. En archivo adjunto me enviarán el código en Julia.\n",
        "Revisen la fecha de entrega.\n",
        "El trabajo es en pareja, o sea dos personas y revisen la fecha de  entrega."
      ],
      "metadata": {
        "id": "TZGmcwM6Wxx_"
      }
    },
    {
      "cell_type": "code",
      "source": [
        "#Importamos Nuestras Librerias\n",
        "#Se importa la libreria Pandas como pd\n",
        "import pandas as pd\n",
        "#Se importa la libreria Numpy como np\n",
        "import numpy as np\n",
        "#Importatamo el tipo de dato date para trabajar con fechas\n",
        "from datetime import date\n",
        "#Se importa la funcion drive\n",
        "from google.colab import drive\n",
        "#Importamos la libreria Sympy para calculos simbolicos en Python\n",
        "from sympy import *\n",
        "#Importamos Libreria matplotlib para trabajar con graficas\n",
        "import matplotlib.pyplot as plt\n",
        "#Conectamos el contenido de nuestro Google Drive con el Google Colab\n",
        "drive.mount('/content/drive')"
      ],
      "metadata": {
        "colab": {
          "base_uri": "https://localhost:8080/"
        },
        "id": "PcPH1eFVVT9S",
        "outputId": "eec26cf2-2fcf-4cc7-9193-93b367c17562"
      },
      "execution_count": null,
      "outputs": [
        {
          "output_type": "stream",
          "name": "stdout",
          "text": [
            "Mounted at /content/drive\n"
          ]
        }
      ]
    },
    {
      "cell_type": "markdown",
      "source": [
        "## Limpieza de los Datos\n"
      ],
      "metadata": {
        "id": "chs0Vge_TX20"
      }
    },
    {
      "cell_type": "code",
      "source": [
        "#Agregamos la ubicacion del archivo \"\"\"\n",
        "tabla_1 = \"/content/drive/MyDrive/Temas Selectos/Tarea No 3/tabla1.xlsx\"\n",
        "#Leemos el excel que nombramos en la linea de arriba\n",
        "datos_1 = pd.read_excel(tabla_1)\n",
        "#Mostramos los primeros 5 datos de la tabla_1\n",
        "datos_1.head()"
      ],
      "metadata": {
        "id": "4bPMK8szUpz6"
      },
      "execution_count": null,
      "outputs": []
    },
    {
      "cell_type": "markdown",
      "source": [
        "## Polinomio de Lagrange"
      ],
      "metadata": {
        "id": "5jAWEmmrTdct"
      }
    },
    {
      "cell_type": "code",
      "execution_count": null,
      "metadata": {
        "id": "Td0yZTocU9GR"
      },
      "outputs": [],
      "source": []
    }
  ]
}