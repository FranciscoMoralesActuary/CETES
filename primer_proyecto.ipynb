{
  "cells": [
    {
      "cell_type": "code",
      "execution_count": null,
      "metadata": {
        "colab": {
          "base_uri": "https://localhost:8080/"
        },
        "id": "DIMJcqY6W3rB",
        "outputId": "3bb349dd-a83f-4657-ee2b-b57e64e28408"
      },
      "outputs": [
        {
          "output_type": "stream",
          "name": "stdout",
          "text": [
            "Drive already mounted at /content/drive; to attempt to forcibly remount, call drive.mount(\"/content/drive\", force_remount=True).\n"
          ]
        }
      ],
      "source": [
        "import pandas as pd\n",
        "import numpy as np\n",
        "from datetime import date\n",
        "from google.colab import drive\n",
        "drive.mount('/content/drive')"
      ]
    },
    {
      "cell_type": "code",
      "execution_count": null,
      "metadata": {
        "id": "mT6EBBaMXDLx"
      },
      "outputs": [],
      "source": [
        "datos = \"/content/drive/MyDrive/Primer_proyecto.xlsx\""
      ]
    },
    {
      "cell_type": "code",
      "execution_count": null,
      "metadata": {
        "id": "knlsh0TrXfCR"
      },
      "outputs": [],
      "source": [
        "dataframe = pd.DataFrame(pd.read_excel(datos))"
      ]
    },
    {
      "cell_type": "code",
      "execution_count": null,
      "metadata": {
        "colab": {
          "base_uri": "https://localhost:8080/",
          "height": 206
        },
        "id": "B5oD91R4XrYD",
        "outputId": "5a86b33b-690c-449d-d289-b7de0cf0ce41"
      },
      "outputs": [
        {
          "output_type": "execute_result",
          "data": {
            "text/plain": [
              "   Dias  Mes   Año                        CONCEPTO    VALOR\n",
              "0     1    2  2021  Precios al Consumidor (INPC)\"   110.907\n",
              "1     1    2  2021                    Subyacente\"   110.061\n",
              "2     1    2  2021         Subyacente  Mercancías\"  112.216\n",
              "3     1    2  2021          Subyacente  Servicios\"  107.734\n",
              "4     1    2  2021                 No subyacente\"   113.524"
            ],
            "text/html": [
              "\n",
              "  <div id=\"df-85d73897-fc45-4dd6-ac9b-e36787db25a2\" class=\"colab-df-container\">\n",
              "    <div>\n",
              "<style scoped>\n",
              "    .dataframe tbody tr th:only-of-type {\n",
              "        vertical-align: middle;\n",
              "    }\n",
              "\n",
              "    .dataframe tbody tr th {\n",
              "        vertical-align: top;\n",
              "    }\n",
              "\n",
              "    .dataframe thead th {\n",
              "        text-align: right;\n",
              "    }\n",
              "</style>\n",
              "<table border=\"1\" class=\"dataframe\">\n",
              "  <thead>\n",
              "    <tr style=\"text-align: right;\">\n",
              "      <th></th>\n",
              "      <th>Dias</th>\n",
              "      <th>Mes</th>\n",
              "      <th>Año</th>\n",
              "      <th>CONCEPTO</th>\n",
              "      <th>VALOR</th>\n",
              "    </tr>\n",
              "  </thead>\n",
              "  <tbody>\n",
              "    <tr>\n",
              "      <th>0</th>\n",
              "      <td>1</td>\n",
              "      <td>2</td>\n",
              "      <td>2021</td>\n",
              "      <td>Precios al Consumidor (INPC)\"</td>\n",
              "      <td>110.907</td>\n",
              "    </tr>\n",
              "    <tr>\n",
              "      <th>1</th>\n",
              "      <td>1</td>\n",
              "      <td>2</td>\n",
              "      <td>2021</td>\n",
              "      <td>Subyacente\"</td>\n",
              "      <td>110.061</td>\n",
              "    </tr>\n",
              "    <tr>\n",
              "      <th>2</th>\n",
              "      <td>1</td>\n",
              "      <td>2</td>\n",
              "      <td>2021</td>\n",
              "      <td>Subyacente  Mercancías\"</td>\n",
              "      <td>112.216</td>\n",
              "    </tr>\n",
              "    <tr>\n",
              "      <th>3</th>\n",
              "      <td>1</td>\n",
              "      <td>2</td>\n",
              "      <td>2021</td>\n",
              "      <td>Subyacente  Servicios\"</td>\n",
              "      <td>107.734</td>\n",
              "    </tr>\n",
              "    <tr>\n",
              "      <th>4</th>\n",
              "      <td>1</td>\n",
              "      <td>2</td>\n",
              "      <td>2021</td>\n",
              "      <td>No subyacente\"</td>\n",
              "      <td>113.524</td>\n",
              "    </tr>\n",
              "  </tbody>\n",
              "</table>\n",
              "</div>\n",
              "    <div class=\"colab-df-buttons\">\n",
              "\n",
              "  <div class=\"colab-df-container\">\n",
              "    <button class=\"colab-df-convert\" onclick=\"convertToInteractive('df-85d73897-fc45-4dd6-ac9b-e36787db25a2')\"\n",
              "            title=\"Convert this dataframe to an interactive table.\"\n",
              "            style=\"display:none;\">\n",
              "\n",
              "  <svg xmlns=\"http://www.w3.org/2000/svg\" height=\"24px\" viewBox=\"0 -960 960 960\">\n",
              "    <path d=\"M120-120v-720h720v720H120Zm60-500h600v-160H180v160Zm220 220h160v-160H400v160Zm0 220h160v-160H400v160ZM180-400h160v-160H180v160Zm440 0h160v-160H620v160ZM180-180h160v-160H180v160Zm440 0h160v-160H620v160Z\"/>\n",
              "  </svg>\n",
              "    </button>\n",
              "\n",
              "  <style>\n",
              "    .colab-df-container {\n",
              "      display:flex;\n",
              "      gap: 12px;\n",
              "    }\n",
              "\n",
              "    .colab-df-convert {\n",
              "      background-color: #E8F0FE;\n",
              "      border: none;\n",
              "      border-radius: 50%;\n",
              "      cursor: pointer;\n",
              "      display: none;\n",
              "      fill: #1967D2;\n",
              "      height: 32px;\n",
              "      padding: 0 0 0 0;\n",
              "      width: 32px;\n",
              "    }\n",
              "\n",
              "    .colab-df-convert:hover {\n",
              "      background-color: #E2EBFA;\n",
              "      box-shadow: 0px 1px 2px rgba(60, 64, 67, 0.3), 0px 1px 3px 1px rgba(60, 64, 67, 0.15);\n",
              "      fill: #174EA6;\n",
              "    }\n",
              "\n",
              "    .colab-df-buttons div {\n",
              "      margin-bottom: 4px;\n",
              "    }\n",
              "\n",
              "    [theme=dark] .colab-df-convert {\n",
              "      background-color: #3B4455;\n",
              "      fill: #D2E3FC;\n",
              "    }\n",
              "\n",
              "    [theme=dark] .colab-df-convert:hover {\n",
              "      background-color: #434B5C;\n",
              "      box-shadow: 0px 1px 3px 1px rgba(0, 0, 0, 0.15);\n",
              "      filter: drop-shadow(0px 1px 2px rgba(0, 0, 0, 0.3));\n",
              "      fill: #FFFFFF;\n",
              "    }\n",
              "  </style>\n",
              "\n",
              "    <script>\n",
              "      const buttonEl =\n",
              "        document.querySelector('#df-85d73897-fc45-4dd6-ac9b-e36787db25a2 button.colab-df-convert');\n",
              "      buttonEl.style.display =\n",
              "        google.colab.kernel.accessAllowed ? 'block' : 'none';\n",
              "\n",
              "      async function convertToInteractive(key) {\n",
              "        const element = document.querySelector('#df-85d73897-fc45-4dd6-ac9b-e36787db25a2');\n",
              "        const dataTable =\n",
              "          await google.colab.kernel.invokeFunction('convertToInteractive',\n",
              "                                                    [key], {});\n",
              "        if (!dataTable) return;\n",
              "\n",
              "        const docLinkHtml = 'Like what you see? Visit the ' +\n",
              "          '<a target=\"_blank\" href=https://colab.research.google.com/notebooks/data_table.ipynb>data table notebook</a>'\n",
              "          + ' to learn more about interactive tables.';\n",
              "        element.innerHTML = '';\n",
              "        dataTable['output_type'] = 'display_data';\n",
              "        await google.colab.output.renderOutput(dataTable, element);\n",
              "        const docLink = document.createElement('div');\n",
              "        docLink.innerHTML = docLinkHtml;\n",
              "        element.appendChild(docLink);\n",
              "      }\n",
              "    </script>\n",
              "  </div>\n",
              "\n",
              "\n",
              "<div id=\"df-3e359f23-72ba-4dfb-9966-1f2d60f7f567\">\n",
              "  <button class=\"colab-df-quickchart\" onclick=\"quickchart('df-3e359f23-72ba-4dfb-9966-1f2d60f7f567')\"\n",
              "            title=\"Suggest charts\"\n",
              "            style=\"display:none;\">\n",
              "\n",
              "<svg xmlns=\"http://www.w3.org/2000/svg\" height=\"24px\"viewBox=\"0 0 24 24\"\n",
              "     width=\"24px\">\n",
              "    <g>\n",
              "        <path d=\"M19 3H5c-1.1 0-2 .9-2 2v14c0 1.1.9 2 2 2h14c1.1 0 2-.9 2-2V5c0-1.1-.9-2-2-2zM9 17H7v-7h2v7zm4 0h-2V7h2v10zm4 0h-2v-4h2v4z\"/>\n",
              "    </g>\n",
              "</svg>\n",
              "  </button>\n",
              "\n",
              "<style>\n",
              "  .colab-df-quickchart {\n",
              "      --bg-color: #E8F0FE;\n",
              "      --fill-color: #1967D2;\n",
              "      --hover-bg-color: #E2EBFA;\n",
              "      --hover-fill-color: #174EA6;\n",
              "      --disabled-fill-color: #AAA;\n",
              "      --disabled-bg-color: #DDD;\n",
              "  }\n",
              "\n",
              "  [theme=dark] .colab-df-quickchart {\n",
              "      --bg-color: #3B4455;\n",
              "      --fill-color: #D2E3FC;\n",
              "      --hover-bg-color: #434B5C;\n",
              "      --hover-fill-color: #FFFFFF;\n",
              "      --disabled-bg-color: #3B4455;\n",
              "      --disabled-fill-color: #666;\n",
              "  }\n",
              "\n",
              "  .colab-df-quickchart {\n",
              "    background-color: var(--bg-color);\n",
              "    border: none;\n",
              "    border-radius: 50%;\n",
              "    cursor: pointer;\n",
              "    display: none;\n",
              "    fill: var(--fill-color);\n",
              "    height: 32px;\n",
              "    padding: 0;\n",
              "    width: 32px;\n",
              "  }\n",
              "\n",
              "  .colab-df-quickchart:hover {\n",
              "    background-color: var(--hover-bg-color);\n",
              "    box-shadow: 0 1px 2px rgba(60, 64, 67, 0.3), 0 1px 3px 1px rgba(60, 64, 67, 0.15);\n",
              "    fill: var(--button-hover-fill-color);\n",
              "  }\n",
              "\n",
              "  .colab-df-quickchart-complete:disabled,\n",
              "  .colab-df-quickchart-complete:disabled:hover {\n",
              "    background-color: var(--disabled-bg-color);\n",
              "    fill: var(--disabled-fill-color);\n",
              "    box-shadow: none;\n",
              "  }\n",
              "\n",
              "  .colab-df-spinner {\n",
              "    border: 2px solid var(--fill-color);\n",
              "    border-color: transparent;\n",
              "    border-bottom-color: var(--fill-color);\n",
              "    animation:\n",
              "      spin 1s steps(1) infinite;\n",
              "  }\n",
              "\n",
              "  @keyframes spin {\n",
              "    0% {\n",
              "      border-color: transparent;\n",
              "      border-bottom-color: var(--fill-color);\n",
              "      border-left-color: var(--fill-color);\n",
              "    }\n",
              "    20% {\n",
              "      border-color: transparent;\n",
              "      border-left-color: var(--fill-color);\n",
              "      border-top-color: var(--fill-color);\n",
              "    }\n",
              "    30% {\n",
              "      border-color: transparent;\n",
              "      border-left-color: var(--fill-color);\n",
              "      border-top-color: var(--fill-color);\n",
              "      border-right-color: var(--fill-color);\n",
              "    }\n",
              "    40% {\n",
              "      border-color: transparent;\n",
              "      border-right-color: var(--fill-color);\n",
              "      border-top-color: var(--fill-color);\n",
              "    }\n",
              "    60% {\n",
              "      border-color: transparent;\n",
              "      border-right-color: var(--fill-color);\n",
              "    }\n",
              "    80% {\n",
              "      border-color: transparent;\n",
              "      border-right-color: var(--fill-color);\n",
              "      border-bottom-color: var(--fill-color);\n",
              "    }\n",
              "    90% {\n",
              "      border-color: transparent;\n",
              "      border-bottom-color: var(--fill-color);\n",
              "    }\n",
              "  }\n",
              "</style>\n",
              "\n",
              "  <script>\n",
              "    async function quickchart(key) {\n",
              "      const quickchartButtonEl =\n",
              "        document.querySelector('#' + key + ' button');\n",
              "      quickchartButtonEl.disabled = true;  // To prevent multiple clicks.\n",
              "      quickchartButtonEl.classList.add('colab-df-spinner');\n",
              "      try {\n",
              "        const charts = await google.colab.kernel.invokeFunction(\n",
              "            'suggestCharts', [key], {});\n",
              "      } catch (error) {\n",
              "        console.error('Error during call to suggestCharts:', error);\n",
              "      }\n",
              "      quickchartButtonEl.classList.remove('colab-df-spinner');\n",
              "      quickchartButtonEl.classList.add('colab-df-quickchart-complete');\n",
              "    }\n",
              "    (() => {\n",
              "      let quickchartButtonEl =\n",
              "        document.querySelector('#df-3e359f23-72ba-4dfb-9966-1f2d60f7f567 button');\n",
              "      quickchartButtonEl.style.display =\n",
              "        google.colab.kernel.accessAllowed ? 'block' : 'none';\n",
              "    })();\n",
              "  </script>\n",
              "</div>\n",
              "\n",
              "    </div>\n",
              "  </div>\n"
            ],
            "application/vnd.google.colaboratory.intrinsic+json": {
              "type": "dataframe",
              "variable_name": "dataframe",
              "summary": "{\n  \"name\": \"dataframe\",\n  \"rows\": 1813,\n  \"fields\": [\n    {\n      \"column\": \"Dias\",\n      \"properties\": {\n        \"dtype\": \"number\",\n        \"std\": 0,\n        \"min\": 1,\n        \"max\": 1,\n        \"num_unique_values\": 1,\n        \"samples\": [\n          1\n        ],\n        \"semantic_type\": \"\",\n        \"description\": \"\"\n      }\n    },\n    {\n      \"column\": \"Mes\",\n      \"properties\": {\n        \"dtype\": \"number\",\n        \"std\": 3,\n        \"min\": 1,\n        \"max\": 12,\n        \"num_unique_values\": 12,\n        \"samples\": [\n          7\n        ],\n        \"semantic_type\": \"\",\n        \"description\": \"\"\n      }\n    },\n    {\n      \"column\": \"A\\u00f1o\",\n      \"properties\": {\n        \"dtype\": \"number\",\n        \"std\": 6,\n        \"min\": 2003,\n        \"max\": 2024,\n        \"num_unique_values\": 22,\n        \"samples\": [\n          2021\n        ],\n        \"semantic_type\": \"\",\n        \"description\": \"\"\n      }\n    },\n    {\n      \"column\": \"CONCEPTO\",\n      \"properties\": {\n        \"dtype\": \"category\",\n        \"num_unique_values\": 7,\n        \"samples\": [\n          \"Precios al Consumidor (INPC)\\\" \"\n        ],\n        \"semantic_type\": \"\",\n        \"description\": \"\"\n      }\n    },\n    {\n      \"column\": \"VALOR\",\n      \"properties\": {\n        \"dtype\": \"number\",\n        \"std\": 24.93482637422139,\n        \"min\": 41.27688471,\n        \"max\": 164.069,\n        \"num_unique_values\": 1809,\n        \"samples\": [\n          99.36017647\n        ],\n        \"semantic_type\": \"\",\n        \"description\": \"\"\n      }\n    }\n  ]\n}"
            }
          },
          "metadata": {},
          "execution_count": 20
        }
      ],
      "source": [
        "dataframe.head()"
      ]
    },
    {
      "cell_type": "code",
      "execution_count": null,
      "metadata": {
        "colab": {
          "base_uri": "https://localhost:8080/",
          "height": 206
        },
        "id": "EAx98VVUEMqx",
        "outputId": "79c442a7-26f5-416d-9e6a-29cf0422211d"
      },
      "outputs": [
        {
          "output_type": "execute_result",
          "data": {
            "text/plain": [
              "   Dias  Mes   Año                        CONCEPTO    VALOR      Fecha\n",
              "0     1    2  2021  Precios al Consumidor (INPC)\"   110.907 2021-01-02\n",
              "1     1    2  2021                    Subyacente\"   110.061 2021-01-02\n",
              "2     1    2  2021         Subyacente  Mercancías\"  112.216 2021-01-02\n",
              "3     1    2  2021          Subyacente  Servicios\"  107.734 2021-01-02\n",
              "4     1    2  2021                 No subyacente\"   113.524 2021-01-02"
            ],
            "text/html": [
              "\n",
              "  <div id=\"df-f91b9763-b520-429c-a51c-f584e49e7f44\" class=\"colab-df-container\">\n",
              "    <div>\n",
              "<style scoped>\n",
              "    .dataframe tbody tr th:only-of-type {\n",
              "        vertical-align: middle;\n",
              "    }\n",
              "\n",
              "    .dataframe tbody tr th {\n",
              "        vertical-align: top;\n",
              "    }\n",
              "\n",
              "    .dataframe thead th {\n",
              "        text-align: right;\n",
              "    }\n",
              "</style>\n",
              "<table border=\"1\" class=\"dataframe\">\n",
              "  <thead>\n",
              "    <tr style=\"text-align: right;\">\n",
              "      <th></th>\n",
              "      <th>Dias</th>\n",
              "      <th>Mes</th>\n",
              "      <th>Año</th>\n",
              "      <th>CONCEPTO</th>\n",
              "      <th>VALOR</th>\n",
              "      <th>Fecha</th>\n",
              "    </tr>\n",
              "  </thead>\n",
              "  <tbody>\n",
              "    <tr>\n",
              "      <th>0</th>\n",
              "      <td>1</td>\n",
              "      <td>2</td>\n",
              "      <td>2021</td>\n",
              "      <td>Precios al Consumidor (INPC)\"</td>\n",
              "      <td>110.907</td>\n",
              "      <td>2021-01-02</td>\n",
              "    </tr>\n",
              "    <tr>\n",
              "      <th>1</th>\n",
              "      <td>1</td>\n",
              "      <td>2</td>\n",
              "      <td>2021</td>\n",
              "      <td>Subyacente\"</td>\n",
              "      <td>110.061</td>\n",
              "      <td>2021-01-02</td>\n",
              "    </tr>\n",
              "    <tr>\n",
              "      <th>2</th>\n",
              "      <td>1</td>\n",
              "      <td>2</td>\n",
              "      <td>2021</td>\n",
              "      <td>Subyacente  Mercancías\"</td>\n",
              "      <td>112.216</td>\n",
              "      <td>2021-01-02</td>\n",
              "    </tr>\n",
              "    <tr>\n",
              "      <th>3</th>\n",
              "      <td>1</td>\n",
              "      <td>2</td>\n",
              "      <td>2021</td>\n",
              "      <td>Subyacente  Servicios\"</td>\n",
              "      <td>107.734</td>\n",
              "      <td>2021-01-02</td>\n",
              "    </tr>\n",
              "    <tr>\n",
              "      <th>4</th>\n",
              "      <td>1</td>\n",
              "      <td>2</td>\n",
              "      <td>2021</td>\n",
              "      <td>No subyacente\"</td>\n",
              "      <td>113.524</td>\n",
              "      <td>2021-01-02</td>\n",
              "    </tr>\n",
              "  </tbody>\n",
              "</table>\n",
              "</div>\n",
              "    <div class=\"colab-df-buttons\">\n",
              "\n",
              "  <div class=\"colab-df-container\">\n",
              "    <button class=\"colab-df-convert\" onclick=\"convertToInteractive('df-f91b9763-b520-429c-a51c-f584e49e7f44')\"\n",
              "            title=\"Convert this dataframe to an interactive table.\"\n",
              "            style=\"display:none;\">\n",
              "\n",
              "  <svg xmlns=\"http://www.w3.org/2000/svg\" height=\"24px\" viewBox=\"0 -960 960 960\">\n",
              "    <path d=\"M120-120v-720h720v720H120Zm60-500h600v-160H180v160Zm220 220h160v-160H400v160Zm0 220h160v-160H400v160ZM180-400h160v-160H180v160Zm440 0h160v-160H620v160ZM180-180h160v-160H180v160Zm440 0h160v-160H620v160Z\"/>\n",
              "  </svg>\n",
              "    </button>\n",
              "\n",
              "  <style>\n",
              "    .colab-df-container {\n",
              "      display:flex;\n",
              "      gap: 12px;\n",
              "    }\n",
              "\n",
              "    .colab-df-convert {\n",
              "      background-color: #E8F0FE;\n",
              "      border: none;\n",
              "      border-radius: 50%;\n",
              "      cursor: pointer;\n",
              "      display: none;\n",
              "      fill: #1967D2;\n",
              "      height: 32px;\n",
              "      padding: 0 0 0 0;\n",
              "      width: 32px;\n",
              "    }\n",
              "\n",
              "    .colab-df-convert:hover {\n",
              "      background-color: #E2EBFA;\n",
              "      box-shadow: 0px 1px 2px rgba(60, 64, 67, 0.3), 0px 1px 3px 1px rgba(60, 64, 67, 0.15);\n",
              "      fill: #174EA6;\n",
              "    }\n",
              "\n",
              "    .colab-df-buttons div {\n",
              "      margin-bottom: 4px;\n",
              "    }\n",
              "\n",
              "    [theme=dark] .colab-df-convert {\n",
              "      background-color: #3B4455;\n",
              "      fill: #D2E3FC;\n",
              "    }\n",
              "\n",
              "    [theme=dark] .colab-df-convert:hover {\n",
              "      background-color: #434B5C;\n",
              "      box-shadow: 0px 1px 3px 1px rgba(0, 0, 0, 0.15);\n",
              "      filter: drop-shadow(0px 1px 2px rgba(0, 0, 0, 0.3));\n",
              "      fill: #FFFFFF;\n",
              "    }\n",
              "  </style>\n",
              "\n",
              "    <script>\n",
              "      const buttonEl =\n",
              "        document.querySelector('#df-f91b9763-b520-429c-a51c-f584e49e7f44 button.colab-df-convert');\n",
              "      buttonEl.style.display =\n",
              "        google.colab.kernel.accessAllowed ? 'block' : 'none';\n",
              "\n",
              "      async function convertToInteractive(key) {\n",
              "        const element = document.querySelector('#df-f91b9763-b520-429c-a51c-f584e49e7f44');\n",
              "        const dataTable =\n",
              "          await google.colab.kernel.invokeFunction('convertToInteractive',\n",
              "                                                    [key], {});\n",
              "        if (!dataTable) return;\n",
              "\n",
              "        const docLinkHtml = 'Like what you see? Visit the ' +\n",
              "          '<a target=\"_blank\" href=https://colab.research.google.com/notebooks/data_table.ipynb>data table notebook</a>'\n",
              "          + ' to learn more about interactive tables.';\n",
              "        element.innerHTML = '';\n",
              "        dataTable['output_type'] = 'display_data';\n",
              "        await google.colab.output.renderOutput(dataTable, element);\n",
              "        const docLink = document.createElement('div');\n",
              "        docLink.innerHTML = docLinkHtml;\n",
              "        element.appendChild(docLink);\n",
              "      }\n",
              "    </script>\n",
              "  </div>\n",
              "\n",
              "\n",
              "<div id=\"df-75957b9d-62d1-44ed-aed9-9a90e7344264\">\n",
              "  <button class=\"colab-df-quickchart\" onclick=\"quickchart('df-75957b9d-62d1-44ed-aed9-9a90e7344264')\"\n",
              "            title=\"Suggest charts\"\n",
              "            style=\"display:none;\">\n",
              "\n",
              "<svg xmlns=\"http://www.w3.org/2000/svg\" height=\"24px\"viewBox=\"0 0 24 24\"\n",
              "     width=\"24px\">\n",
              "    <g>\n",
              "        <path d=\"M19 3H5c-1.1 0-2 .9-2 2v14c0 1.1.9 2 2 2h14c1.1 0 2-.9 2-2V5c0-1.1-.9-2-2-2zM9 17H7v-7h2v7zm4 0h-2V7h2v10zm4 0h-2v-4h2v4z\"/>\n",
              "    </g>\n",
              "</svg>\n",
              "  </button>\n",
              "\n",
              "<style>\n",
              "  .colab-df-quickchart {\n",
              "      --bg-color: #E8F0FE;\n",
              "      --fill-color: #1967D2;\n",
              "      --hover-bg-color: #E2EBFA;\n",
              "      --hover-fill-color: #174EA6;\n",
              "      --disabled-fill-color: #AAA;\n",
              "      --disabled-bg-color: #DDD;\n",
              "  }\n",
              "\n",
              "  [theme=dark] .colab-df-quickchart {\n",
              "      --bg-color: #3B4455;\n",
              "      --fill-color: #D2E3FC;\n",
              "      --hover-bg-color: #434B5C;\n",
              "      --hover-fill-color: #FFFFFF;\n",
              "      --disabled-bg-color: #3B4455;\n",
              "      --disabled-fill-color: #666;\n",
              "  }\n",
              "\n",
              "  .colab-df-quickchart {\n",
              "    background-color: var(--bg-color);\n",
              "    border: none;\n",
              "    border-radius: 50%;\n",
              "    cursor: pointer;\n",
              "    display: none;\n",
              "    fill: var(--fill-color);\n",
              "    height: 32px;\n",
              "    padding: 0;\n",
              "    width: 32px;\n",
              "  }\n",
              "\n",
              "  .colab-df-quickchart:hover {\n",
              "    background-color: var(--hover-bg-color);\n",
              "    box-shadow: 0 1px 2px rgba(60, 64, 67, 0.3), 0 1px 3px 1px rgba(60, 64, 67, 0.15);\n",
              "    fill: var(--button-hover-fill-color);\n",
              "  }\n",
              "\n",
              "  .colab-df-quickchart-complete:disabled,\n",
              "  .colab-df-quickchart-complete:disabled:hover {\n",
              "    background-color: var(--disabled-bg-color);\n",
              "    fill: var(--disabled-fill-color);\n",
              "    box-shadow: none;\n",
              "  }\n",
              "\n",
              "  .colab-df-spinner {\n",
              "    border: 2px solid var(--fill-color);\n",
              "    border-color: transparent;\n",
              "    border-bottom-color: var(--fill-color);\n",
              "    animation:\n",
              "      spin 1s steps(1) infinite;\n",
              "  }\n",
              "\n",
              "  @keyframes spin {\n",
              "    0% {\n",
              "      border-color: transparent;\n",
              "      border-bottom-color: var(--fill-color);\n",
              "      border-left-color: var(--fill-color);\n",
              "    }\n",
              "    20% {\n",
              "      border-color: transparent;\n",
              "      border-left-color: var(--fill-color);\n",
              "      border-top-color: var(--fill-color);\n",
              "    }\n",
              "    30% {\n",
              "      border-color: transparent;\n",
              "      border-left-color: var(--fill-color);\n",
              "      border-top-color: var(--fill-color);\n",
              "      border-right-color: var(--fill-color);\n",
              "    }\n",
              "    40% {\n",
              "      border-color: transparent;\n",
              "      border-right-color: var(--fill-color);\n",
              "      border-top-color: var(--fill-color);\n",
              "    }\n",
              "    60% {\n",
              "      border-color: transparent;\n",
              "      border-right-color: var(--fill-color);\n",
              "    }\n",
              "    80% {\n",
              "      border-color: transparent;\n",
              "      border-right-color: var(--fill-color);\n",
              "      border-bottom-color: var(--fill-color);\n",
              "    }\n",
              "    90% {\n",
              "      border-color: transparent;\n",
              "      border-bottom-color: var(--fill-color);\n",
              "    }\n",
              "  }\n",
              "</style>\n",
              "\n",
              "  <script>\n",
              "    async function quickchart(key) {\n",
              "      const quickchartButtonEl =\n",
              "        document.querySelector('#' + key + ' button');\n",
              "      quickchartButtonEl.disabled = true;  // To prevent multiple clicks.\n",
              "      quickchartButtonEl.classList.add('colab-df-spinner');\n",
              "      try {\n",
              "        const charts = await google.colab.kernel.invokeFunction(\n",
              "            'suggestCharts', [key], {});\n",
              "      } catch (error) {\n",
              "        console.error('Error during call to suggestCharts:', error);\n",
              "      }\n",
              "      quickchartButtonEl.classList.remove('colab-df-spinner');\n",
              "      quickchartButtonEl.classList.add('colab-df-quickchart-complete');\n",
              "    }\n",
              "    (() => {\n",
              "      let quickchartButtonEl =\n",
              "        document.querySelector('#df-75957b9d-62d1-44ed-aed9-9a90e7344264 button');\n",
              "      quickchartButtonEl.style.display =\n",
              "        google.colab.kernel.accessAllowed ? 'block' : 'none';\n",
              "    })();\n",
              "  </script>\n",
              "</div>\n",
              "\n",
              "    </div>\n",
              "  </div>\n"
            ],
            "application/vnd.google.colaboratory.intrinsic+json": {
              "type": "dataframe",
              "variable_name": "dataframe",
              "summary": "{\n  \"name\": \"dataframe\",\n  \"rows\": 1813,\n  \"fields\": [\n    {\n      \"column\": \"Dias\",\n      \"properties\": {\n        \"dtype\": \"number\",\n        \"std\": 0,\n        \"min\": 1,\n        \"max\": 1,\n        \"num_unique_values\": 1,\n        \"samples\": [\n          1\n        ],\n        \"semantic_type\": \"\",\n        \"description\": \"\"\n      }\n    },\n    {\n      \"column\": \"Mes\",\n      \"properties\": {\n        \"dtype\": \"number\",\n        \"std\": 3,\n        \"min\": 1,\n        \"max\": 12,\n        \"num_unique_values\": 12,\n        \"samples\": [\n          7\n        ],\n        \"semantic_type\": \"\",\n        \"description\": \"\"\n      }\n    },\n    {\n      \"column\": \"A\\u00f1o\",\n      \"properties\": {\n        \"dtype\": \"number\",\n        \"std\": 6,\n        \"min\": 2003,\n        \"max\": 2024,\n        \"num_unique_values\": 22,\n        \"samples\": [\n          2021\n        ],\n        \"semantic_type\": \"\",\n        \"description\": \"\"\n      }\n    },\n    {\n      \"column\": \"CONCEPTO\",\n      \"properties\": {\n        \"dtype\": \"category\",\n        \"num_unique_values\": 7,\n        \"samples\": [\n          \"Precios al Consumidor (INPC)\\\" \"\n        ],\n        \"semantic_type\": \"\",\n        \"description\": \"\"\n      }\n    },\n    {\n      \"column\": \"VALOR\",\n      \"properties\": {\n        \"dtype\": \"number\",\n        \"std\": 24.93482637422139,\n        \"min\": 41.27688471,\n        \"max\": 164.069,\n        \"num_unique_values\": 1809,\n        \"samples\": [\n          99.36017647\n        ],\n        \"semantic_type\": \"\",\n        \"description\": \"\"\n      }\n    },\n    {\n      \"column\": \"Fecha\",\n      \"properties\": {\n        \"dtype\": \"date\",\n        \"min\": \"2003-01-01 00:00:00\",\n        \"max\": \"2024-01-07 00:00:00\",\n        \"num_unique_values\": 259,\n        \"samples\": [\n          \"2005-01-06 00:00:00\"\n        ],\n        \"semantic_type\": \"\",\n        \"description\": \"\"\n      }\n    }\n  ]\n}"
            }
          },
          "metadata": {},
          "execution_count": 21
        }
      ],
      "source": [
        "dataframe[\"Fecha\"] = dataframe[\"Dias\"].astype(str) + \"-\" + dataframe[\"Mes\"].astype(str) + \"-\" + dataframe[\"Año\"].astype(str)\n",
        "dataframe[\"Fecha\"] = pd.to_datetime(dataframe[\"Fecha\"])\n",
        "dataframe.head()"
      ]
    },
    {
      "cell_type": "code",
      "execution_count": null,
      "metadata": {
        "colab": {
          "base_uri": "https://localhost:8080/"
        },
        "id": "g9XHw_ngXsdC",
        "outputId": "460bdc7b-1702-4872-8728-687b3a63adfe"
      },
      "outputs": [
        {
          "output_type": "execute_result",
          "data": {
            "text/plain": [
              "1813"
            ]
          },
          "metadata": {},
          "execution_count": 22
        }
      ],
      "source": [
        "lista_conceptos = []\n",
        "for i in dataframe[\"CONCEPTO\"]:\n",
        "  lista_conceptos.append(i)\n",
        "len(lista_conceptos)"
      ]
    },
    {
      "cell_type": "code",
      "execution_count": null,
      "metadata": {
        "id": "YqhQW8yRX3BC"
      },
      "outputs": [],
      "source": [
        "lista_conceptos = list(set(lista_conceptos))"
      ]
    },
    {
      "cell_type": "code",
      "execution_count": null,
      "metadata": {
        "colab": {
          "base_uri": "https://localhost:8080/"
        },
        "id": "Rg4XBowmYb57",
        "outputId": "237a100c-931b-4eae-8485-3855233ae41b"
      },
      "outputs": [
        {
          "output_type": "execute_result",
          "data": {
            "text/plain": [
              "['Subyacente  Servicios\"',\n",
              " 'Precios al Consumidor (INPC)\" ',\n",
              " 'No subyacente\" ',\n",
              " 'No subyacente  Energéticos y tarifas autorizadas por el gobierno\"',\n",
              " 'Subyacente  Mercancías\"',\n",
              " 'Subyacente\" ',\n",
              " 'No subyacente  Agropecuarios\"']"
            ]
          },
          "metadata": {},
          "execution_count": 24
        }
      ],
      "source": [
        "lista_conceptos"
      ]
    },
    {
      "cell_type": "code",
      "execution_count": null,
      "metadata": {
        "id": "hG3RjQAUZhie"
      },
      "outputs": [],
      "source": [
        "dataframe_0 = dataframe.loc[dataframe[\"CONCEPTO\"] == lista_conceptos[0]]"
      ]
    },
    {
      "cell_type": "code",
      "execution_count": null,
      "metadata": {
        "colab": {
          "base_uri": "https://localhost:8080/",
          "height": 293
        },
        "id": "1rp-KInYZ4-J",
        "outputId": "6b43606a-8934-463c-9671-5872b573aed2"
      },
      "outputs": [
        {
          "output_type": "stream",
          "name": "stderr",
          "text": [
            "<ipython-input-53-e5b612d13f87>:1: SettingWithCopyWarning: \n",
            "A value is trying to be set on a copy of a slice from a DataFrame\n",
            "\n",
            "See the caveats in the documentation: https://pandas.pydata.org/pandas-docs/stable/user_guide/indexing.html#returning-a-view-versus-a-copy\n",
            "  dataframe_0.sort_values(by = [\"Fecha\"], inplace = True)\n"
          ]
        },
        {
          "output_type": "execute_result",
          "data": {
            "text/plain": [
              "     Dias  Mes   Año                CONCEPTO      VALOR      Fecha\n",
              "818     1    1  2003  Subyacente  Servicios\"  60.641413 2003-01-01\n",
              "819     1    2  2003  Subyacente  Servicios\"  60.973993 2003-01-02\n",
              "820     1    3  2003  Subyacente  Servicios\"  61.236916 2003-01-03\n",
              "821     1    4  2003  Subyacente  Servicios\"  61.533689 2003-01-04\n",
              "822     1    5  2003  Subyacente  Servicios\"  61.728220 2003-01-05"
            ],
            "text/html": [
              "\n",
              "  <div id=\"df-3385ca2b-b9ac-48f1-9ae5-3d62317cc4bf\" class=\"colab-df-container\">\n",
              "    <div>\n",
              "<style scoped>\n",
              "    .dataframe tbody tr th:only-of-type {\n",
              "        vertical-align: middle;\n",
              "    }\n",
              "\n",
              "    .dataframe tbody tr th {\n",
              "        vertical-align: top;\n",
              "    }\n",
              "\n",
              "    .dataframe thead th {\n",
              "        text-align: right;\n",
              "    }\n",
              "</style>\n",
              "<table border=\"1\" class=\"dataframe\">\n",
              "  <thead>\n",
              "    <tr style=\"text-align: right;\">\n",
              "      <th></th>\n",
              "      <th>Dias</th>\n",
              "      <th>Mes</th>\n",
              "      <th>Año</th>\n",
              "      <th>CONCEPTO</th>\n",
              "      <th>VALOR</th>\n",
              "      <th>Fecha</th>\n",
              "    </tr>\n",
              "  </thead>\n",
              "  <tbody>\n",
              "    <tr>\n",
              "      <th>818</th>\n",
              "      <td>1</td>\n",
              "      <td>1</td>\n",
              "      <td>2003</td>\n",
              "      <td>Subyacente  Servicios\"</td>\n",
              "      <td>60.641413</td>\n",
              "      <td>2003-01-01</td>\n",
              "    </tr>\n",
              "    <tr>\n",
              "      <th>819</th>\n",
              "      <td>1</td>\n",
              "      <td>2</td>\n",
              "      <td>2003</td>\n",
              "      <td>Subyacente  Servicios\"</td>\n",
              "      <td>60.973993</td>\n",
              "      <td>2003-01-02</td>\n",
              "    </tr>\n",
              "    <tr>\n",
              "      <th>820</th>\n",
              "      <td>1</td>\n",
              "      <td>3</td>\n",
              "      <td>2003</td>\n",
              "      <td>Subyacente  Servicios\"</td>\n",
              "      <td>61.236916</td>\n",
              "      <td>2003-01-03</td>\n",
              "    </tr>\n",
              "    <tr>\n",
              "      <th>821</th>\n",
              "      <td>1</td>\n",
              "      <td>4</td>\n",
              "      <td>2003</td>\n",
              "      <td>Subyacente  Servicios\"</td>\n",
              "      <td>61.533689</td>\n",
              "      <td>2003-01-04</td>\n",
              "    </tr>\n",
              "    <tr>\n",
              "      <th>822</th>\n",
              "      <td>1</td>\n",
              "      <td>5</td>\n",
              "      <td>2003</td>\n",
              "      <td>Subyacente  Servicios\"</td>\n",
              "      <td>61.728220</td>\n",
              "      <td>2003-01-05</td>\n",
              "    </tr>\n",
              "  </tbody>\n",
              "</table>\n",
              "</div>\n",
              "    <div class=\"colab-df-buttons\">\n",
              "\n",
              "  <div class=\"colab-df-container\">\n",
              "    <button class=\"colab-df-convert\" onclick=\"convertToInteractive('df-3385ca2b-b9ac-48f1-9ae5-3d62317cc4bf')\"\n",
              "            title=\"Convert this dataframe to an interactive table.\"\n",
              "            style=\"display:none;\">\n",
              "\n",
              "  <svg xmlns=\"http://www.w3.org/2000/svg\" height=\"24px\" viewBox=\"0 -960 960 960\">\n",
              "    <path d=\"M120-120v-720h720v720H120Zm60-500h600v-160H180v160Zm220 220h160v-160H400v160Zm0 220h160v-160H400v160ZM180-400h160v-160H180v160Zm440 0h160v-160H620v160ZM180-180h160v-160H180v160Zm440 0h160v-160H620v160Z\"/>\n",
              "  </svg>\n",
              "    </button>\n",
              "\n",
              "  <style>\n",
              "    .colab-df-container {\n",
              "      display:flex;\n",
              "      gap: 12px;\n",
              "    }\n",
              "\n",
              "    .colab-df-convert {\n",
              "      background-color: #E8F0FE;\n",
              "      border: none;\n",
              "      border-radius: 50%;\n",
              "      cursor: pointer;\n",
              "      display: none;\n",
              "      fill: #1967D2;\n",
              "      height: 32px;\n",
              "      padding: 0 0 0 0;\n",
              "      width: 32px;\n",
              "    }\n",
              "\n",
              "    .colab-df-convert:hover {\n",
              "      background-color: #E2EBFA;\n",
              "      box-shadow: 0px 1px 2px rgba(60, 64, 67, 0.3), 0px 1px 3px 1px rgba(60, 64, 67, 0.15);\n",
              "      fill: #174EA6;\n",
              "    }\n",
              "\n",
              "    .colab-df-buttons div {\n",
              "      margin-bottom: 4px;\n",
              "    }\n",
              "\n",
              "    [theme=dark] .colab-df-convert {\n",
              "      background-color: #3B4455;\n",
              "      fill: #D2E3FC;\n",
              "    }\n",
              "\n",
              "    [theme=dark] .colab-df-convert:hover {\n",
              "      background-color: #434B5C;\n",
              "      box-shadow: 0px 1px 3px 1px rgba(0, 0, 0, 0.15);\n",
              "      filter: drop-shadow(0px 1px 2px rgba(0, 0, 0, 0.3));\n",
              "      fill: #FFFFFF;\n",
              "    }\n",
              "  </style>\n",
              "\n",
              "    <script>\n",
              "      const buttonEl =\n",
              "        document.querySelector('#df-3385ca2b-b9ac-48f1-9ae5-3d62317cc4bf button.colab-df-convert');\n",
              "      buttonEl.style.display =\n",
              "        google.colab.kernel.accessAllowed ? 'block' : 'none';\n",
              "\n",
              "      async function convertToInteractive(key) {\n",
              "        const element = document.querySelector('#df-3385ca2b-b9ac-48f1-9ae5-3d62317cc4bf');\n",
              "        const dataTable =\n",
              "          await google.colab.kernel.invokeFunction('convertToInteractive',\n",
              "                                                    [key], {});\n",
              "        if (!dataTable) return;\n",
              "\n",
              "        const docLinkHtml = 'Like what you see? Visit the ' +\n",
              "          '<a target=\"_blank\" href=https://colab.research.google.com/notebooks/data_table.ipynb>data table notebook</a>'\n",
              "          + ' to learn more about interactive tables.';\n",
              "        element.innerHTML = '';\n",
              "        dataTable['output_type'] = 'display_data';\n",
              "        await google.colab.output.renderOutput(dataTable, element);\n",
              "        const docLink = document.createElement('div');\n",
              "        docLink.innerHTML = docLinkHtml;\n",
              "        element.appendChild(docLink);\n",
              "      }\n",
              "    </script>\n",
              "  </div>\n",
              "\n",
              "\n",
              "<div id=\"df-fdc4a48a-574b-4924-915b-d4c61f5dd031\">\n",
              "  <button class=\"colab-df-quickchart\" onclick=\"quickchart('df-fdc4a48a-574b-4924-915b-d4c61f5dd031')\"\n",
              "            title=\"Suggest charts\"\n",
              "            style=\"display:none;\">\n",
              "\n",
              "<svg xmlns=\"http://www.w3.org/2000/svg\" height=\"24px\"viewBox=\"0 0 24 24\"\n",
              "     width=\"24px\">\n",
              "    <g>\n",
              "        <path d=\"M19 3H5c-1.1 0-2 .9-2 2v14c0 1.1.9 2 2 2h14c1.1 0 2-.9 2-2V5c0-1.1-.9-2-2-2zM9 17H7v-7h2v7zm4 0h-2V7h2v10zm4 0h-2v-4h2v4z\"/>\n",
              "    </g>\n",
              "</svg>\n",
              "  </button>\n",
              "\n",
              "<style>\n",
              "  .colab-df-quickchart {\n",
              "      --bg-color: #E8F0FE;\n",
              "      --fill-color: #1967D2;\n",
              "      --hover-bg-color: #E2EBFA;\n",
              "      --hover-fill-color: #174EA6;\n",
              "      --disabled-fill-color: #AAA;\n",
              "      --disabled-bg-color: #DDD;\n",
              "  }\n",
              "\n",
              "  [theme=dark] .colab-df-quickchart {\n",
              "      --bg-color: #3B4455;\n",
              "      --fill-color: #D2E3FC;\n",
              "      --hover-bg-color: #434B5C;\n",
              "      --hover-fill-color: #FFFFFF;\n",
              "      --disabled-bg-color: #3B4455;\n",
              "      --disabled-fill-color: #666;\n",
              "  }\n",
              "\n",
              "  .colab-df-quickchart {\n",
              "    background-color: var(--bg-color);\n",
              "    border: none;\n",
              "    border-radius: 50%;\n",
              "    cursor: pointer;\n",
              "    display: none;\n",
              "    fill: var(--fill-color);\n",
              "    height: 32px;\n",
              "    padding: 0;\n",
              "    width: 32px;\n",
              "  }\n",
              "\n",
              "  .colab-df-quickchart:hover {\n",
              "    background-color: var(--hover-bg-color);\n",
              "    box-shadow: 0 1px 2px rgba(60, 64, 67, 0.3), 0 1px 3px 1px rgba(60, 64, 67, 0.15);\n",
              "    fill: var(--button-hover-fill-color);\n",
              "  }\n",
              "\n",
              "  .colab-df-quickchart-complete:disabled,\n",
              "  .colab-df-quickchart-complete:disabled:hover {\n",
              "    background-color: var(--disabled-bg-color);\n",
              "    fill: var(--disabled-fill-color);\n",
              "    box-shadow: none;\n",
              "  }\n",
              "\n",
              "  .colab-df-spinner {\n",
              "    border: 2px solid var(--fill-color);\n",
              "    border-color: transparent;\n",
              "    border-bottom-color: var(--fill-color);\n",
              "    animation:\n",
              "      spin 1s steps(1) infinite;\n",
              "  }\n",
              "\n",
              "  @keyframes spin {\n",
              "    0% {\n",
              "      border-color: transparent;\n",
              "      border-bottom-color: var(--fill-color);\n",
              "      border-left-color: var(--fill-color);\n",
              "    }\n",
              "    20% {\n",
              "      border-color: transparent;\n",
              "      border-left-color: var(--fill-color);\n",
              "      border-top-color: var(--fill-color);\n",
              "    }\n",
              "    30% {\n",
              "      border-color: transparent;\n",
              "      border-left-color: var(--fill-color);\n",
              "      border-top-color: var(--fill-color);\n",
              "      border-right-color: var(--fill-color);\n",
              "    }\n",
              "    40% {\n",
              "      border-color: transparent;\n",
              "      border-right-color: var(--fill-color);\n",
              "      border-top-color: var(--fill-color);\n",
              "    }\n",
              "    60% {\n",
              "      border-color: transparent;\n",
              "      border-right-color: var(--fill-color);\n",
              "    }\n",
              "    80% {\n",
              "      border-color: transparent;\n",
              "      border-right-color: var(--fill-color);\n",
              "      border-bottom-color: var(--fill-color);\n",
              "    }\n",
              "    90% {\n",
              "      border-color: transparent;\n",
              "      border-bottom-color: var(--fill-color);\n",
              "    }\n",
              "  }\n",
              "</style>\n",
              "\n",
              "  <script>\n",
              "    async function quickchart(key) {\n",
              "      const quickchartButtonEl =\n",
              "        document.querySelector('#' + key + ' button');\n",
              "      quickchartButtonEl.disabled = true;  // To prevent multiple clicks.\n",
              "      quickchartButtonEl.classList.add('colab-df-spinner');\n",
              "      try {\n",
              "        const charts = await google.colab.kernel.invokeFunction(\n",
              "            'suggestCharts', [key], {});\n",
              "      } catch (error) {\n",
              "        console.error('Error during call to suggestCharts:', error);\n",
              "      }\n",
              "      quickchartButtonEl.classList.remove('colab-df-spinner');\n",
              "      quickchartButtonEl.classList.add('colab-df-quickchart-complete');\n",
              "    }\n",
              "    (() => {\n",
              "      let quickchartButtonEl =\n",
              "        document.querySelector('#df-fdc4a48a-574b-4924-915b-d4c61f5dd031 button');\n",
              "      quickchartButtonEl.style.display =\n",
              "        google.colab.kernel.accessAllowed ? 'block' : 'none';\n",
              "    })();\n",
              "  </script>\n",
              "</div>\n",
              "\n",
              "    </div>\n",
              "  </div>\n"
            ],
            "application/vnd.google.colaboratory.intrinsic+json": {
              "type": "dataframe",
              "variable_name": "dataframe_0",
              "summary": "{\n  \"name\": \"dataframe_0\",\n  \"rows\": 259,\n  \"fields\": [\n    {\n      \"column\": \"Dias\",\n      \"properties\": {\n        \"dtype\": \"number\",\n        \"std\": 0,\n        \"min\": 1,\n        \"max\": 1,\n        \"num_unique_values\": 1,\n        \"samples\": [\n          1\n        ],\n        \"semantic_type\": \"\",\n        \"description\": \"\"\n      }\n    },\n    {\n      \"column\": \"Mes\",\n      \"properties\": {\n        \"dtype\": \"number\",\n        \"std\": 3,\n        \"min\": 1,\n        \"max\": 12,\n        \"num_unique_values\": 12,\n        \"samples\": [\n          11\n        ],\n        \"semantic_type\": \"\",\n        \"description\": \"\"\n      }\n    },\n    {\n      \"column\": \"A\\u00f1o\",\n      \"properties\": {\n        \"dtype\": \"number\",\n        \"std\": 6,\n        \"min\": 2003,\n        \"max\": 2024,\n        \"num_unique_values\": 22,\n        \"samples\": [\n          2003\n        ],\n        \"semantic_type\": \"\",\n        \"description\": \"\"\n      }\n    },\n    {\n      \"column\": \"CONCEPTO\",\n      \"properties\": {\n        \"dtype\": \"category\",\n        \"num_unique_values\": 1,\n        \"samples\": [\n          \"Subyacente  Servicios\\\"\"\n        ],\n        \"semantic_type\": \"\",\n        \"description\": \"\"\n      }\n    },\n    {\n      \"column\": \"VALOR\",\n      \"properties\": {\n        \"dtype\": \"number\",\n        \"std\": 17.496051323770615,\n        \"min\": 60.64141348,\n        \"max\": 127.682,\n        \"num_unique_values\": 259,\n        \"samples\": [\n          75.16878611\n        ],\n        \"semantic_type\": \"\",\n        \"description\": \"\"\n      }\n    },\n    {\n      \"column\": \"Fecha\",\n      \"properties\": {\n        \"dtype\": \"date\",\n        \"min\": \"2003-01-01 00:00:00\",\n        \"max\": \"2024-01-07 00:00:00\",\n        \"num_unique_values\": 259,\n        \"samples\": [\n          \"2008-01-07 00:00:00\"\n        ],\n        \"semantic_type\": \"\",\n        \"description\": \"\"\n      }\n    }\n  ]\n}"
            }
          },
          "metadata": {},
          "execution_count": 53
        }
      ],
      "source": [
        "dataframe_0.sort_values(by = [\"Fecha\"], inplace = True)\n",
        "dataframe_0.head()"
      ]
    },
    {
      "cell_type": "code",
      "execution_count": null,
      "metadata": {
        "colab": {
          "base_uri": "https://localhost:8080/"
        },
        "id": "kJ5wdSU-cEI-",
        "outputId": "1de4c1b5-e311-4f6f-b299-7e93426734d5"
      },
      "outputs": [
        {
          "output_type": "execute_result",
          "data": {
            "text/plain": [
              "array([ 60.64141348,  60.97399277,  61.23691616,  61.53368897,\n",
              "        61.72821994,  61.87371824,  62.0834668 ,  62.3855648 ,\n",
              "        62.8566227 ,  62.97617823,  63.0923071 ,  63.27079345,\n",
              "        63.49573537,  63.75229473,  64.01073969,  64.27679784,\n",
              "        64.40028805,  64.55335992,  64.67413437,  64.83769219,\n",
              "        65.33301811,  65.44565542,  65.58457355,  65.77898509,\n",
              "        66.0477515 ,  66.30071796,  66.50102442,  66.61435627,\n",
              "        66.71504682,  66.88015912,  67.1149507 ,  67.22314964,\n",
              "        67.68434828,  67.8183286 ,  67.96284587,  68.17654919,\n",
              "        68.29031133,  68.52404794,  68.85548038,  69.1654643 ,\n",
              "        69.26894991,  69.53432981,  69.79879548,  69.90691406,\n",
              "        70.34553629,  70.43462753,  70.55579509,  70.79234175,\n",
              "        70.99027211,  71.28510329,  71.52552988,  71.62212776,\n",
              "        71.72583122,  71.93674451,  72.15822796,  72.32303881,\n",
              "        72.72065981,  72.85228776,  72.92051447,  73.14850137,\n",
              "        73.44097016,  73.75745928,  74.08015875,  74.24166693,\n",
              "        74.4663219 ,  74.8053854 ,  75.16878611,  75.35442029,\n",
              "        75.84468765,  76.07896622,  76.3260908 ,  76.59760981,\n",
              "        76.69461761,  76.96431967,  77.26790587,  77.43248274,\n",
              "        77.35138241,  77.48976947,  77.77884445,  77.79226428,\n",
              "        78.10180218,  78.32468308,  78.40509402,  78.84853031,\n",
              "        79.30348329,  79.61977369,  79.98796768,  79.97268145,\n",
              "        80.15494711,  80.38029872,  80.72978114,  80.74156945,\n",
              "        81.08785518,  81.06848931,  81.18038797,  81.49571308,\n",
              "        81.68073824,  81.92167964,  82.04188368,  81.92020502,\n",
              "        81.99563688,  82.14087082,  82.42759138,  82.54728209,\n",
              "        82.73253824,  82.8817617 ,  83.13879036,  83.44836381,\n",
              "        83.54357921,  83.74888636,  83.94818366,  83.95387448,\n",
              "        84.15110643,  84.22848375,  84.48646602,  84.55514102,\n",
              "        84.59644432,  84.74613753,  84.54905767,  84.4084002 ,\n",
              "        84.89996603,  85.597287  ,  85.92211886,  85.94528313,\n",
              "        86.13367076,  86.32634258,  86.49687509,  86.45240139,\n",
              "        86.66915792,  86.89870525,  87.13225095,  87.39686556,\n",
              "        87.84216967,  88.20447771,  88.41748958,  88.7176905 ,\n",
              "        88.66593026,  88.88477474,  89.22263855,  89.23839769,\n",
              "        89.47903047,  89.62685287,  89.80177427,  90.04558981,\n",
              "        89.82728493,  90.1421825 ,  90.46735319,  90.51530176,\n",
              "        90.64751508,  90.83731238,  91.1680283 ,  91.24447113,\n",
              "        91.4862232 ,  91.64040865,  91.55707447,  91.90957863,\n",
              "        92.03714089,  92.26905898,  92.61209311,  92.66362359,\n",
              "        92.82854146,  93.05099822,  93.31751577,  93.33704581,\n",
              "        93.64122741,  93.80305105,  94.09300316,  94.59304056,\n",
              "        94.85915337,  95.30664664,  95.68476507,  95.98680815,\n",
              "        96.08060395,  96.36303056,  96.74779537,  96.80907716,\n",
              "        97.04219927,  97.31855641,  97.66095237,  98.15194449,\n",
              "        98.19554094,  98.63304973,  99.02436216,  99.00988384,\n",
              "        99.30500097,  99.62445843,  99.96476754, 100.0574487 ,\n",
              "       100.3197057 , 100.7082182 , 100.9483324 , 101.5604323 ,\n",
              "       101.6453942 , 102.0163067 , 102.3701907 , 102.9387164 ,\n",
              "       102.9706772 , 103.3642727 , 103.7550748 , 103.8532724 ,\n",
              "       104.0652679 , 104.3097621 , 104.6562607 , 105.2526346 ,\n",
              "       105.2154812 , 105.563199  , 105.8043126 , 105.8671646 ,\n",
              "       105.9909532 , 106.1060699 , 106.2439754 , 106.4050159 ,\n",
              "       106.6181588 , 106.8099117 , 106.9847627 , 107.3058505 ,\n",
              "       107.4609549 , 107.734     , 108.243     , 108.547     ,\n",
              "       109.002     , 109.525     , 109.923     , 110.05      ,\n",
              "       110.28      , 110.696     , 111.174     , 111.925     ,\n",
              "       112.133     , 112.717     , 113.247     , 113.795     ,\n",
              "       114.168     , 114.735     , 115.312     , 115.766     ,\n",
              "       116.176     , 116.56      , 117.117     , 117.739     ,\n",
              "       118.307     , 118.973     , 119.71      , 120.013     ,\n",
              "       120.365     , 120.757     , 121.349     , 121.727     ,\n",
              "       122.248     , 122.786     , 123.298     , 124.016     ,\n",
              "       124.516     , 125.273     , 126.137     , 126.269     ,\n",
              "       126.646     , 126.982     , 127.682     ])"
            ]
          },
          "metadata": {},
          "execution_count": 27
        }
      ],
      "source": [
        "valores_0 = dataframe_0['VALOR'].to_numpy()\n",
        "valores_0"
      ]
    },
    {
      "cell_type": "code",
      "execution_count": null,
      "metadata": {
        "colab": {
          "base_uri": "https://localhost:8080/"
        },
        "id": "hiZN8wn1kw-B",
        "outputId": "23eeb2be-2c0f-4e70-b6e2-f40338ff4088"
      },
      "outputs": [
        {
          "output_type": "execute_result",
          "data": {
            "text/plain": [
              "array([   0,   31,   59,   90,  120,  151,  181,  212,  243,  273,  304,\n",
              "        334,  365,  396,  425,  456,  486,  517,  547,  578,  609,  639,\n",
              "        670,  700,  731,  762,  790,  821,  851,  882,  912,  943,  974,\n",
              "       1004, 1035, 1065, 1096, 1127, 1155, 1186, 1216, 1247, 1277, 1308,\n",
              "       1339, 1369, 1400, 1430, 1461, 1492, 1520, 1551, 1581, 1612, 1642,\n",
              "       1673, 1704, 1734, 1765, 1795, 1826, 1857, 1886, 1917, 1947, 1978,\n",
              "       2008, 2039, 2070, 2100, 2131, 2161, 2192, 2223, 2251, 2282, 2312,\n",
              "       2343, 2373, 2404, 2435, 2465, 2496, 2526, 2557, 2588, 2616, 2647,\n",
              "       2677, 2708, 2738, 2769, 2800, 2830, 2861, 2891, 2922, 2953, 2981,\n",
              "       3012, 3042, 3073, 3103, 3134, 3165, 3195, 3226, 3256, 3287, 3318,\n",
              "       3347, 3378, 3408, 3439, 3469, 3500, 3531, 3561, 3592, 3622, 3653,\n",
              "       3684, 3712, 3743, 3773, 3804, 3834, 3865, 3896, 3926, 3957, 3987,\n",
              "       4018, 4049, 4077, 4108, 4138, 4169, 4199, 4230, 4261, 4291, 4322,\n",
              "       4352, 4383, 4414, 4442, 4473, 4503, 4534, 4564, 4595, 4626, 4656,\n",
              "       4687, 4717, 4748, 4779, 4808, 4839, 4869, 4900, 4930, 4961, 4992,\n",
              "       5022, 5053, 5083, 5114, 5145, 5173, 5204, 5234, 5265, 5295, 5326,\n",
              "       5357, 5387, 5418, 5448, 5479, 5510, 5538, 5569, 5599, 5630, 5660,\n",
              "       5691, 5722, 5752, 5783, 5813, 5844, 5875, 5903, 5934, 5964, 5995,\n",
              "       6025, 6056, 6087, 6117, 6148, 6178, 6209, 6240, 6269, 6300, 6330,\n",
              "       6361, 6391, 6422, 6453, 6483, 6514, 6544, 6575, 6606, 6634, 6665,\n",
              "       6695, 6726, 6756, 6787, 6818, 6848, 6879, 6909, 6940, 6971, 6999,\n",
              "       7030, 7060, 7091, 7121, 7152, 7183, 7213, 7244, 7274, 7305, 7336,\n",
              "       7364, 7395, 7425, 7456, 7486, 7517, 7548, 7578, 7609, 7639, 7670,\n",
              "       7701, 7730, 7761, 7791, 7822, 7852])"
            ]
          },
          "metadata": {},
          "execution_count": 28
        }
      ],
      "source": [
        "mes_0 = dataframe_0['Mes'].to_numpy()\n",
        "anio_0 = dataframe_0['Año'].to_numpy()\n",
        "num_meses = len(mes_0)\n",
        "i = 0\n",
        "fecha_inicial = date(2003,1,1)\n",
        "lista_dias_0 = []\n",
        "while i < num_meses:\n",
        "  fecha_final = date(anio_0[i],mes_0[i],1)\n",
        "  dias = (fecha_final-fecha_inicial).days\n",
        "  lista_dias_0.append(dias)\n",
        "  i += 1\n",
        "num_dias_0 = np.array(lista_dias_0)\n",
        "num_dias_0"
      ]
    },
    {
      "cell_type": "code",
      "execution_count": null,
      "metadata": {
        "colab": {
          "base_uri": "https://localhost:8080/"
        },
        "id": "4DILZ4IPSu37",
        "outputId": "061c8ae0-a4d5-44c4-9249-404f0d77a2fe"
      },
      "outputs": [
        {
          "output_type": "execute_result",
          "data": {
            "text/plain": [
              "array([ 0.        ,  0.08493151,  0.16164384,  0.24657534,  0.32876712,\n",
              "        0.41369863,  0.49589041,  0.58082192,  0.66575342,  0.74794521,\n",
              "        0.83287671,  0.91506849,  1.        ,  1.08493151,  1.16438356,\n",
              "        1.24931507,  1.33150685,  1.41643836,  1.49863014,  1.58356164,\n",
              "        1.66849315,  1.75068493,  1.83561644,  1.91780822,  2.00273973,\n",
              "        2.08767123,  2.16438356,  2.24931507,  2.33150685,  2.41643836,\n",
              "        2.49863014,  2.58356164,  2.66849315,  2.75068493,  2.83561644,\n",
              "        2.91780822,  3.00273973,  3.08767123,  3.16438356,  3.24931507,\n",
              "        3.33150685,  3.41643836,  3.49863014,  3.58356164,  3.66849315,\n",
              "        3.75068493,  3.83561644,  3.91780822,  4.00273973,  4.08767123,\n",
              "        4.16438356,  4.24931507,  4.33150685,  4.41643836,  4.49863014,\n",
              "        4.58356164,  4.66849315,  4.75068493,  4.83561644,  4.91780822,\n",
              "        5.00273973,  5.08767123,  5.16712329,  5.25205479,  5.33424658,\n",
              "        5.41917808,  5.50136986,  5.58630137,  5.67123288,  5.75342466,\n",
              "        5.83835616,  5.92054795,  6.00547945,  6.09041096,  6.16712329,\n",
              "        6.25205479,  6.33424658,  6.41917808,  6.50136986,  6.58630137,\n",
              "        6.67123288,  6.75342466,  6.83835616,  6.92054795,  7.00547945,\n",
              "        7.09041096,  7.16712329,  7.25205479,  7.33424658,  7.41917808,\n",
              "        7.50136986,  7.58630137,  7.67123288,  7.75342466,  7.83835616,\n",
              "        7.92054795,  8.00547945,  8.09041096,  8.16712329,  8.25205479,\n",
              "        8.33424658,  8.41917808,  8.50136986,  8.58630137,  8.67123288,\n",
              "        8.75342466,  8.83835616,  8.92054795,  9.00547945,  9.09041096,\n",
              "        9.16986301,  9.25479452,  9.3369863 ,  9.42191781,  9.50410959,\n",
              "        9.5890411 ,  9.6739726 ,  9.75616438,  9.84109589,  9.92328767,\n",
              "       10.00821918, 10.09315068, 10.16986301, 10.25479452, 10.3369863 ,\n",
              "       10.42191781, 10.50410959, 10.5890411 , 10.6739726 , 10.75616438,\n",
              "       10.84109589, 10.92328767, 11.00821918, 11.09315068, 11.16986301,\n",
              "       11.25479452, 11.3369863 , 11.42191781, 11.50410959, 11.5890411 ,\n",
              "       11.6739726 , 11.75616438, 11.84109589, 11.92328767, 12.00821918,\n",
              "       12.09315068, 12.16986301, 12.25479452, 12.3369863 , 12.42191781,\n",
              "       12.50410959, 12.5890411 , 12.6739726 , 12.75616438, 12.84109589,\n",
              "       12.92328767, 13.00821918, 13.09315068, 13.17260274, 13.25753425,\n",
              "       13.33972603, 13.42465753, 13.50684932, 13.59178082, 13.67671233,\n",
              "       13.75890411, 13.84383562, 13.9260274 , 14.0109589 , 14.09589041,\n",
              "       14.17260274, 14.25753425, 14.33972603, 14.42465753, 14.50684932,\n",
              "       14.59178082, 14.67671233, 14.75890411, 14.84383562, 14.9260274 ,\n",
              "       15.0109589 , 15.09589041, 15.17260274, 15.25753425, 15.33972603,\n",
              "       15.42465753, 15.50684932, 15.59178082, 15.67671233, 15.75890411,\n",
              "       15.84383562, 15.9260274 , 16.0109589 , 16.09589041, 16.17260274,\n",
              "       16.25753425, 16.33972603, 16.42465753, 16.50684932, 16.59178082,\n",
              "       16.67671233, 16.75890411, 16.84383562, 16.9260274 , 17.0109589 ,\n",
              "       17.09589041, 17.17534247, 17.26027397, 17.34246575, 17.42739726,\n",
              "       17.50958904, 17.59452055, 17.67945205, 17.76164384, 17.84657534,\n",
              "       17.92876712, 18.01369863, 18.09863014, 18.17534247, 18.26027397,\n",
              "       18.34246575, 18.42739726, 18.50958904, 18.59452055, 18.67945205,\n",
              "       18.76164384, 18.84657534, 18.92876712, 19.01369863, 19.09863014,\n",
              "       19.17534247, 19.26027397, 19.34246575, 19.42739726, 19.50958904,\n",
              "       19.59452055, 19.67945205, 19.76164384, 19.84657534, 19.92876712,\n",
              "       20.01369863, 20.09863014, 20.17534247, 20.26027397, 20.34246575,\n",
              "       20.42739726, 20.50958904, 20.59452055, 20.67945205, 20.76164384,\n",
              "       20.84657534, 20.92876712, 21.01369863, 21.09863014, 21.17808219,\n",
              "       21.2630137 , 21.34520548, 21.43013699, 21.51232877])"
            ]
          },
          "metadata": {},
          "execution_count": 29
        }
      ],
      "source": [
        "num_dias_0 = num_dias_0.astype(np.float64)\n",
        "num_dias_0 = num_dias_0 / 365\n",
        "num_dias_0"
      ]
    },
    {
      "cell_type": "code",
      "execution_count": null,
      "metadata": {
        "id": "-ARlk6uzU0aP"
      },
      "outputs": [],
      "source": [
        "# Librerias para el polinomia\n",
        "from sympy import *\n",
        "import matplotlib.pyplot as plt"
      ]
    },
    {
      "cell_type": "code",
      "execution_count": null,
      "metadata": {
        "id": "xeEjh2JBdXFQ"
      },
      "outputs": [],
      "source": [
        "x = Symbol('X')\n",
        "def polinomio_lagrange(xi, fi):\n",
        "  polinomio = 0\n",
        "  for i in range(len(xi)):\n",
        "    numerador = 1\n",
        "    denominador = 1\n",
        "    denominados = np.float64\n",
        "    for j in range(len(xi)):\n",
        "      if j != i:\n",
        "        numerador = numerador * (x - xi[j])\n",
        "        denominador = denominador * (xi[i] - xi[j])\n",
        "    termino_lagrange = (numerador / denominador)\n",
        "    polinomio = polinomio + termino_lagrange * fi[i]\n",
        "  return polinomio\n",
        "def valores(xi, fi):\n",
        "  polinomio = polinomio_lagrange(xi, fi)\n",
        "  polinomio_simplificado = polinomio.expand()\n",
        "  px = lambdify(x, polinomio_simplificado)\n",
        "  muestras = 250\n",
        "  a, b = min(xi), max(xi)\n",
        "  pxi = np.linspace(a, b, muestras)\n",
        "  pfi = px(pxi)\n",
        "  return pxi, pfi, polinomio, polinomio_simplificado"
      ]
    },
    {
      "cell_type": "code",
      "execution_count": null,
      "metadata": {
        "id": "KFxVEzKVfpwJ"
      },
      "outputs": [],
      "source": [
        "def grafica(xi, fi, pxi, pfi):\n",
        "  plt.subplots(figsize = (15, 8))\n",
        "  plt.plot(xi, fi, \"o\")\n",
        "  plt.plot(pxi, pfi)\n",
        "  plt.legend()\n",
        "  plt.grid(1)\n",
        "  plt.xlabel(\"Dias\")\n",
        "  plt.ylabel(\"Valor\")\n",
        "  plt.title(\"Interpolacion de Lagrange\")"
      ]
    },
    {
      "cell_type": "code",
      "execution_count": null,
      "metadata": {
        "colab": {
          "base_uri": "https://localhost:8080/"
        },
        "id": "EWhGOA0nATvu",
        "outputId": "2207745e-b010-4760-e76a-6822489de1cc"
      },
      "outputs": [
        {
          "output_type": "execute_result",
          "data": {
            "text/plain": [
              "259"
            ]
          },
          "metadata": {},
          "execution_count": 33
        }
      ],
      "source": [
        "len(valores_0)\n"
      ]
    },
    {
      "cell_type": "code",
      "execution_count": null,
      "metadata": {
        "colab": {
          "base_uri": "https://localhost:8080/"
        },
        "id": "pq1Xxiz_AZk1",
        "outputId": "d64ab0d2-8878-4714-9ae9-eaec2cad4510"
      },
      "outputs": [
        {
          "output_type": "execute_result",
          "data": {
            "text/plain": [
              "259"
            ]
          },
          "metadata": {},
          "execution_count": 34
        }
      ],
      "source": [
        "len(num_dias_0)"
      ]
    },
    {
      "cell_type": "code",
      "execution_count": null,
      "metadata": {
        "id": "PoIDd9U7gJie"
      },
      "outputs": [],
      "source": [
        "fi =  valores_0\n",
        "xi = num_dias_0"
      ]
    },
    {
      "cell_type": "code",
      "execution_count": null,
      "metadata": {
        "id": "9IlcxtHI2Vo7"
      },
      "outputs": [],
      "source": [
        "xi = np.array(xi, dtype = np.float64)\n",
        "fi = np.array(fi, dtype = np.float64)"
      ]
    },
    {
      "cell_type": "code",
      "execution_count": null,
      "metadata": {
        "colab": {
          "base_uri": "https://localhost:8080/"
        },
        "id": "aP4Dc6blgPHK",
        "outputId": "7daa6315-9e8b-4bf4-ad61-86c71bae8a96"
      },
      "outputs": [
        {
          "output_type": "stream",
          "name": "stderr",
          "text": [
            "<lambdifygenerated-1>:2: RuntimeWarning: overflow encountered in power\n",
            "  return 1.06731221350185e-158*X**258 - 2.96269631373462e-155*X**257 + 4.09068611029054e-152*X**256 - 3.74583327762141e-149*X**255 + 2.5591021682499e-146*X**254 - 1.39134059885323e-143*X**253 + 6.2705505753596e-141*X**252 - 2.40951496348455e-138*X**251 + 8.05844011151894e-136*X**250 - 2.38286762598915e-133*X**249 + 6.30757091672328e-131*X**248 - 1.50970839394764e-128*X**247 + 3.29448364691814e-126*X**246 - 6.60027320426385e-124*X**245 + 1.22119366437351e-121*X**244 - 2.09733115994772e-119*X**243 + 3.35841250154916e-117*X**242 - 5.03356359425562e-115*X**241 + 7.0857691087843e-113*X**240 - 9.39725088438096e-111*X**239 + 1.17736640541211e-108*X**238 - 1.39699987407008e-106*X**237 + 1.57336923300061e-104*X**236 - 1.6853976397766e-102*X**235 + 1.72037398332053e-100*X**234 - 1.67624009663218e-98*X**233 + 1.56144710060866e-96*X**232 - 1.39260593536345e-94*X**231 + 1.19076067321755e-92*X**230 - 9.77370930935101e-91*X**229 + 7.7097231385738e-89*X**228 - 5.85105695423866e-87*X**227 + 4.27648583637905e-85*X**226 - 3.01307527982138e-83*X**225 + 2.04828688816218e-81*X**224 - 1.34460226395343e-79*X**223 + 8.53025973777953e-78*X**222 - 5.2338299689692e-76*X**221 + 3.10793186755247e-74*X**220 - 1.78733882771882e-72*X**219 + 9.96092026865025e-71*X**218 - 5.38280503062723e-69*X**217 + 2.82215387646576e-67*X**216 - 1.43631452745542e-65*X**215 + 7.09966362250842e-64*X**214 - 3.41002220545265e-62*X**213 + 1.59224442187351e-60*X**212 - 7.23082573640131e-59*X**211 + 3.19503379724961e-57*X**210 - 1.37419373035277e-55*X**209 + 5.75536957272092e-54*X**208 - 2.34807373704567e-52*X**207 + 9.33506070876589e-51*X**206 - 3.61773385445273e-49*X**205 + 1.3671342050851e-47*X**204 - 5.03936671430481e-46*X**203 + 1.81242800905213e-44*X**202 - 6.36194700976157e-43*X**201 + 2.18013480257425e-41*X**200 - 7.29550727191979e-40*X**199 + 2.38460711591173e-38*X**198 - 7.61506211996556e-37*X**197 + 2.37644271831738e-35*X**196 - 7.24897604824389e-34*X**195 + 2.16180150048676e-32*X**194 - 6.30428261601148e-31*X**193 + 1.79814094009157e-29*X**192 - 5.01723237163005e-28*X**191 + 1.36974037356704e-26*X**190 - 3.65951886308045e-25*X**189 + 9.56966391885496e-24*X**188 - 2.44979001892147e-22*X**187 + 6.14031121701173e-21*X**186 - 1.50712257193633e-19*X**185 + 3.62299970971318e-18*X**184 - 8.53123804296364e-17*X**183 + 1.96806789749443e-15*X**182 - 4.44846697250275e-14*X**181 + 9.8532348183756e-13*X**180 - 2.13894344927963e-11*X**179 + 4.55117599674805e-10*X**178 - 9.49296200259854e-9*X**177 + 1.94125104469955e-7*X**176 - 3.89233101502797e-6*X**175 + 7.65297756804698e-5*X**174 - 0.00147566075422699*X**173 + 0.0279073873080091*X**172 - 0.517687817109802*X**171 + 9.42043175155123*X**170 - 168.176083226365*X**169 + 2945.66400691646*X**168 - 50624.5613707227*X**167 + 853749.701027404*X**166 - 14129338.959537*X**165 + 229490404.783958*X**164 - 3658362519.7253*X**163 + 57242065095.3793*X**162 - 879175887293.772*X**161 + 13255389996115.3*X**160 - 196195327085723.0*X**159 + 2.85092752736628e+15*X**158 - 4.06729681465042e+16*X**157 + 5.69727774055016e+17*X**156 - 7.83590747868019e+18*X**155 + 1.05825185250063e+20*X**154 - 1.40340484347666e+21*X**153 + 1.82762209907106e+22*X**152 - 2.33729525353222e+23*X**151 + 2.93547046716815e+24*X**150 - 3.62068722352926e+25*X**149 + 4.38595977506026e+26*X**148 - 5.21805686942938e+27*X**147 + 6.09723175414545e+28*X**146 - 6.99752655527779e+29*X**145 + 7.88772255149081e+30*X**144 - 8.73293480475322e+31*X**143 + 9.49676485006298e+32*X**142 - 1.01438410819563e+34*X**141 + 1.06425071242345e+35*X**140 - 1.09673768839208e+36*X**139 + 1.11014705514704e+37*X**138 - 1.1037682018874e+38*X**137 + 1.07794015692044e+39*X**136 - 1.03402180442999e+40*X**135 + 9.74273681870072e+40*X**134 - 9.01665638359074e+41*X**133 + 8.19633080538245e+42*X**132 - 7.31809554482316e+43*X**131 + 6.41764410373243e+44*X**130 - 5.52771379586264e+45*X**129 + 4.67627810550366e+46*X**128 - 3.88536264783345e+47*X**127 + 3.17051566988648e+48*X**126 - 2.54088557861075e+49*X**125 + 1.99979738782779e+50*X**124 - 1.54568311735201e+51*X**123 + 1.1732092211019e+52*X**122 - 8.7445412101549e+52*X**121 + 6.40015096133725e+53*X**120 - 4.59959032086189e+54*X**119 + 3.24568958833123e+55*X**118 - 2.24872263554627e+56*X**117 + 1.52963241198639e+57*X**116 - 1.02150558721207e+58*X**115 + 6.69693526037851e+58*X**114 - 4.30994101604624e+59*X**113 + 2.72272376643475e+60*X**112 - 1.68829752173368e+61*X**111 + 1.02750179000815e+62*X**110 - 6.13731452883592e+62*X**109 + 3.59757006945827e+63*X**108 - 2.069412271212e+64*X**107 + 1.16805239347445e+65*X**106 - 6.46881447154776e+65*X**105 + 3.51481519306696e+66*X**104 - 1.87353968159766e+67*X**103 + 9.79652078273626e+67*X**102 - 5.02451484862678e+68*X**101 + 2.5275117488144e+69*X**100 - 1.24689879686586e+70*X**99 + 6.03210769657957e+70*X**98 - 2.86131960456724e+71*X**97 + 1.33070329396847e+72*X**96 - 6.06695039811494e+72*X**95 + 2.71137348965973e+73*X**94 - 1.18765910575423e+74*X**93 + 5.09835622305378e+74*X**92 - 2.14464433701879e+75*X**91 + 8.83926879641515e+75*X**90 - 3.56911840352208e+76*X**89 + 1.41167605371108e+77*X**88 - 5.46868386717458e+77*X**87 + 2.0746588731919e+78*X**86 - 7.70667940941419e+78*X**85 + 2.80274336982676e+79*X**84 - 9.97772694301727e+79*X**83 + 3.47653762798522e+80*X**82 - 1.18539211252827e+81*X**81 + 3.95464519780818e+81*X**80 - 1.29065993889675e+82*X**79 + 4.12003679804185e+82*X**78 - 1.28617220657279e+83*X**77 + 3.92579192004292e+83*X**76 - 1.17139783515576e+84*X**75 + 3.4162275129295e+84*X**74 - 9.73571660039701e+84*X**73 + 2.71068193970576e+85*X**72 - 7.37202027071679e+85*X**71 + 1.95792741953121e+86*X**70 - 5.07703790374958e+86*X**69 + 1.285068670939e+87*X**68 - 3.17423685648707e+87*X**67 + 7.64963622566634e+87*X**66 - 1.79811880014448e+88*X**65 + 4.12150606383148e+88*X**64 - 9.20944040026452e+88*X**63 + 2.00551459473424e+89*X**62 - 4.25505157040413e+89*X**61 + 8.79299339081012e+89*X**60 - 1.76922568144849e+90*X**59 + 3.46498100144716e+90*X**58 - 6.6029930667189e+90*X**57 + 1.2239080763672e+91*X**56 - 2.2057914550943e+91*X**55 + 3.86385918837149e+91*X**54 - 6.57576490077783e+91*X**53 + 1.08682459414193e+92*X**52 - 1.7437072894912e+92*X**51 + 2.71452405041599e+92*X**50 - 4.09842191773476e+92*X**49 + 5.99833505903449e+92*X**48 - 8.50579484207978e+92*X**47 + 1.16798831870641e+93*X**46 - 1.55224552977719e+93*X**45 + 1.99539330364925e+93*X**44 - 2.47958403199528e+93*X**43 + 2.97669834507085e+93*X**42 - 3.44989954462566e+93*X**41 + 3.85735126313632e+93*X**40 - 4.15779428655148e+93*X**39 + 4.31709013527099e+93*X**38 - 4.31438369855174e+93*X**37 + 4.1464049248305e+93*X**36 - 3.82872921728943e+93*X**35 + 3.3935123933434e+93*X**34 - 2.88411835687882e+93*X**33 + 2.34787781562571e+93*X**32 - 1.82867699938473e+93*X**31 + 1.36102307809751e+93*X**30 - 9.66703231905416e+92*X**29 + 6.54354263546399e+92*X**28 - 4.21477273479281e+92*X**27 + 2.57915769585685e+92*X**26 - 1.49682598937439e+92*X**25 + 8.22320800941756e+91*X**24 - 4.26782699445033e+91*X**23 + 2.08790277748344e+91*X**22 - 9.60521169672715e+90*X**21 + 4.14431294022002e+90*X**20 - 1.67220039994422e+90*X**19 + 6.28959876664341e+89*X**18 - 2.19740592217032e+89*X**17 + 7.10267686975613e+88*X**16 - 2.11452745818293e+88*X**15 + 5.76871252983482e+87*X**14 - 1.43382733586799e+87*X**13 + 3.22518390689189e+86*X**12 - 6.51401595106345e+85*X**11 + 1.17044227218689e+85*X**10 - 1.85015464089153e+84*X**9 + 2.53787339633441e+83*X**8 - 2.96925952693131e+82*X**7 + 2.89751531866751e+81*X**6 - 2.28801963960779e+80*X**5 + 1.3999752954077e+79*X**4 - 6.20322998022973e+77*X**3 + 1.76228609241407e+76*X**2 - 2.39501795149428e+74*X + 60.6414134799999\n",
            "<lambdifygenerated-1>:2: RuntimeWarning: invalid value encountered in subtract\n",
            "  return 1.06731221350185e-158*X**258 - 2.96269631373462e-155*X**257 + 4.09068611029054e-152*X**256 - 3.74583327762141e-149*X**255 + 2.5591021682499e-146*X**254 - 1.39134059885323e-143*X**253 + 6.2705505753596e-141*X**252 - 2.40951496348455e-138*X**251 + 8.05844011151894e-136*X**250 - 2.38286762598915e-133*X**249 + 6.30757091672328e-131*X**248 - 1.50970839394764e-128*X**247 + 3.29448364691814e-126*X**246 - 6.60027320426385e-124*X**245 + 1.22119366437351e-121*X**244 - 2.09733115994772e-119*X**243 + 3.35841250154916e-117*X**242 - 5.03356359425562e-115*X**241 + 7.0857691087843e-113*X**240 - 9.39725088438096e-111*X**239 + 1.17736640541211e-108*X**238 - 1.39699987407008e-106*X**237 + 1.57336923300061e-104*X**236 - 1.6853976397766e-102*X**235 + 1.72037398332053e-100*X**234 - 1.67624009663218e-98*X**233 + 1.56144710060866e-96*X**232 - 1.39260593536345e-94*X**231 + 1.19076067321755e-92*X**230 - 9.77370930935101e-91*X**229 + 7.7097231385738e-89*X**228 - 5.85105695423866e-87*X**227 + 4.27648583637905e-85*X**226 - 3.01307527982138e-83*X**225 + 2.04828688816218e-81*X**224 - 1.34460226395343e-79*X**223 + 8.53025973777953e-78*X**222 - 5.2338299689692e-76*X**221 + 3.10793186755247e-74*X**220 - 1.78733882771882e-72*X**219 + 9.96092026865025e-71*X**218 - 5.38280503062723e-69*X**217 + 2.82215387646576e-67*X**216 - 1.43631452745542e-65*X**215 + 7.09966362250842e-64*X**214 - 3.41002220545265e-62*X**213 + 1.59224442187351e-60*X**212 - 7.23082573640131e-59*X**211 + 3.19503379724961e-57*X**210 - 1.37419373035277e-55*X**209 + 5.75536957272092e-54*X**208 - 2.34807373704567e-52*X**207 + 9.33506070876589e-51*X**206 - 3.61773385445273e-49*X**205 + 1.3671342050851e-47*X**204 - 5.03936671430481e-46*X**203 + 1.81242800905213e-44*X**202 - 6.36194700976157e-43*X**201 + 2.18013480257425e-41*X**200 - 7.29550727191979e-40*X**199 + 2.38460711591173e-38*X**198 - 7.61506211996556e-37*X**197 + 2.37644271831738e-35*X**196 - 7.24897604824389e-34*X**195 + 2.16180150048676e-32*X**194 - 6.30428261601148e-31*X**193 + 1.79814094009157e-29*X**192 - 5.01723237163005e-28*X**191 + 1.36974037356704e-26*X**190 - 3.65951886308045e-25*X**189 + 9.56966391885496e-24*X**188 - 2.44979001892147e-22*X**187 + 6.14031121701173e-21*X**186 - 1.50712257193633e-19*X**185 + 3.62299970971318e-18*X**184 - 8.53123804296364e-17*X**183 + 1.96806789749443e-15*X**182 - 4.44846697250275e-14*X**181 + 9.8532348183756e-13*X**180 - 2.13894344927963e-11*X**179 + 4.55117599674805e-10*X**178 - 9.49296200259854e-9*X**177 + 1.94125104469955e-7*X**176 - 3.89233101502797e-6*X**175 + 7.65297756804698e-5*X**174 - 0.00147566075422699*X**173 + 0.0279073873080091*X**172 - 0.517687817109802*X**171 + 9.42043175155123*X**170 - 168.176083226365*X**169 + 2945.66400691646*X**168 - 50624.5613707227*X**167 + 853749.701027404*X**166 - 14129338.959537*X**165 + 229490404.783958*X**164 - 3658362519.7253*X**163 + 57242065095.3793*X**162 - 879175887293.772*X**161 + 13255389996115.3*X**160 - 196195327085723.0*X**159 + 2.85092752736628e+15*X**158 - 4.06729681465042e+16*X**157 + 5.69727774055016e+17*X**156 - 7.83590747868019e+18*X**155 + 1.05825185250063e+20*X**154 - 1.40340484347666e+21*X**153 + 1.82762209907106e+22*X**152 - 2.33729525353222e+23*X**151 + 2.93547046716815e+24*X**150 - 3.62068722352926e+25*X**149 + 4.38595977506026e+26*X**148 - 5.21805686942938e+27*X**147 + 6.09723175414545e+28*X**146 - 6.99752655527779e+29*X**145 + 7.88772255149081e+30*X**144 - 8.73293480475322e+31*X**143 + 9.49676485006298e+32*X**142 - 1.01438410819563e+34*X**141 + 1.06425071242345e+35*X**140 - 1.09673768839208e+36*X**139 + 1.11014705514704e+37*X**138 - 1.1037682018874e+38*X**137 + 1.07794015692044e+39*X**136 - 1.03402180442999e+40*X**135 + 9.74273681870072e+40*X**134 - 9.01665638359074e+41*X**133 + 8.19633080538245e+42*X**132 - 7.31809554482316e+43*X**131 + 6.41764410373243e+44*X**130 - 5.52771379586264e+45*X**129 + 4.67627810550366e+46*X**128 - 3.88536264783345e+47*X**127 + 3.17051566988648e+48*X**126 - 2.54088557861075e+49*X**125 + 1.99979738782779e+50*X**124 - 1.54568311735201e+51*X**123 + 1.1732092211019e+52*X**122 - 8.7445412101549e+52*X**121 + 6.40015096133725e+53*X**120 - 4.59959032086189e+54*X**119 + 3.24568958833123e+55*X**118 - 2.24872263554627e+56*X**117 + 1.52963241198639e+57*X**116 - 1.02150558721207e+58*X**115 + 6.69693526037851e+58*X**114 - 4.30994101604624e+59*X**113 + 2.72272376643475e+60*X**112 - 1.68829752173368e+61*X**111 + 1.02750179000815e+62*X**110 - 6.13731452883592e+62*X**109 + 3.59757006945827e+63*X**108 - 2.069412271212e+64*X**107 + 1.16805239347445e+65*X**106 - 6.46881447154776e+65*X**105 + 3.51481519306696e+66*X**104 - 1.87353968159766e+67*X**103 + 9.79652078273626e+67*X**102 - 5.02451484862678e+68*X**101 + 2.5275117488144e+69*X**100 - 1.24689879686586e+70*X**99 + 6.03210769657957e+70*X**98 - 2.86131960456724e+71*X**97 + 1.33070329396847e+72*X**96 - 6.06695039811494e+72*X**95 + 2.71137348965973e+73*X**94 - 1.18765910575423e+74*X**93 + 5.09835622305378e+74*X**92 - 2.14464433701879e+75*X**91 + 8.83926879641515e+75*X**90 - 3.56911840352208e+76*X**89 + 1.41167605371108e+77*X**88 - 5.46868386717458e+77*X**87 + 2.0746588731919e+78*X**86 - 7.70667940941419e+78*X**85 + 2.80274336982676e+79*X**84 - 9.97772694301727e+79*X**83 + 3.47653762798522e+80*X**82 - 1.18539211252827e+81*X**81 + 3.95464519780818e+81*X**80 - 1.29065993889675e+82*X**79 + 4.12003679804185e+82*X**78 - 1.28617220657279e+83*X**77 + 3.92579192004292e+83*X**76 - 1.17139783515576e+84*X**75 + 3.4162275129295e+84*X**74 - 9.73571660039701e+84*X**73 + 2.71068193970576e+85*X**72 - 7.37202027071679e+85*X**71 + 1.95792741953121e+86*X**70 - 5.07703790374958e+86*X**69 + 1.285068670939e+87*X**68 - 3.17423685648707e+87*X**67 + 7.64963622566634e+87*X**66 - 1.79811880014448e+88*X**65 + 4.12150606383148e+88*X**64 - 9.20944040026452e+88*X**63 + 2.00551459473424e+89*X**62 - 4.25505157040413e+89*X**61 + 8.79299339081012e+89*X**60 - 1.76922568144849e+90*X**59 + 3.46498100144716e+90*X**58 - 6.6029930667189e+90*X**57 + 1.2239080763672e+91*X**56 - 2.2057914550943e+91*X**55 + 3.86385918837149e+91*X**54 - 6.57576490077783e+91*X**53 + 1.08682459414193e+92*X**52 - 1.7437072894912e+92*X**51 + 2.71452405041599e+92*X**50 - 4.09842191773476e+92*X**49 + 5.99833505903449e+92*X**48 - 8.50579484207978e+92*X**47 + 1.16798831870641e+93*X**46 - 1.55224552977719e+93*X**45 + 1.99539330364925e+93*X**44 - 2.47958403199528e+93*X**43 + 2.97669834507085e+93*X**42 - 3.44989954462566e+93*X**41 + 3.85735126313632e+93*X**40 - 4.15779428655148e+93*X**39 + 4.31709013527099e+93*X**38 - 4.31438369855174e+93*X**37 + 4.1464049248305e+93*X**36 - 3.82872921728943e+93*X**35 + 3.3935123933434e+93*X**34 - 2.88411835687882e+93*X**33 + 2.34787781562571e+93*X**32 - 1.82867699938473e+93*X**31 + 1.36102307809751e+93*X**30 - 9.66703231905416e+92*X**29 + 6.54354263546399e+92*X**28 - 4.21477273479281e+92*X**27 + 2.57915769585685e+92*X**26 - 1.49682598937439e+92*X**25 + 8.22320800941756e+91*X**24 - 4.26782699445033e+91*X**23 + 2.08790277748344e+91*X**22 - 9.60521169672715e+90*X**21 + 4.14431294022002e+90*X**20 - 1.67220039994422e+90*X**19 + 6.28959876664341e+89*X**18 - 2.19740592217032e+89*X**17 + 7.10267686975613e+88*X**16 - 2.11452745818293e+88*X**15 + 5.76871252983482e+87*X**14 - 1.43382733586799e+87*X**13 + 3.22518390689189e+86*X**12 - 6.51401595106345e+85*X**11 + 1.17044227218689e+85*X**10 - 1.85015464089153e+84*X**9 + 2.53787339633441e+83*X**8 - 2.96925952693131e+82*X**7 + 2.89751531866751e+81*X**6 - 2.28801963960779e+80*X**5 + 1.3999752954077e+79*X**4 - 6.20322998022973e+77*X**3 + 1.76228609241407e+76*X**2 - 2.39501795149428e+74*X + 60.6414134799999\n"
          ]
        },
        {
          "output_type": "execute_result",
          "data": {
            "text/plain": [
              "array([ 0.        ,  0.08639489,  0.17278979,  0.25918468,  0.34557958,\n",
              "        0.43197447,  0.51836937,  0.60476426,  0.69115916,  0.77755405,\n",
              "        0.86394895,  0.95034384,  1.03673874,  1.12313363,  1.20952853,\n",
              "        1.29592342,  1.38231831,  1.46871321,  1.5551081 ,  1.641503  ,\n",
              "        1.72789789,  1.81429279,  1.90068768,  1.98708258,  2.07347747,\n",
              "        2.15987237,  2.24626726,  2.33266216,  2.41905705,  2.50545194,\n",
              "        2.59184684,  2.67824173,  2.76463663,  2.85103152,  2.93742642,\n",
              "        3.02382131,  3.11021621,  3.1966111 ,  3.283006  ,  3.36940089,\n",
              "        3.45579579,  3.54219068,  3.62858558,  3.71498047,  3.80137536,\n",
              "        3.88777026,  3.97416515,  4.06056005,  4.14695494,  4.23334984,\n",
              "        4.31974473,  4.40613963,  4.49253452,  4.57892942,  4.66532431,\n",
              "        4.75171921,  4.8381141 ,  4.92450899,  5.01090389,  5.09729878,\n",
              "        5.18369368,  5.27008857,  5.35648347,  5.44287836,  5.52927326,\n",
              "        5.61566815,  5.70206305,  5.78845794,  5.87485284,  5.96124773,\n",
              "        6.04764263,  6.13403752,  6.22043241,  6.30682731,  6.3932222 ,\n",
              "        6.4796171 ,  6.56601199,  6.65240689,  6.73880178,  6.82519668,\n",
              "        6.91159157,  6.99798647,  7.08438136,  7.17077626,  7.25717115,\n",
              "        7.34356605,  7.42996094,  7.51635583,  7.60275073,  7.68914562,\n",
              "        7.77554052,  7.86193541,  7.94833031,  8.0347252 ,  8.1211201 ,\n",
              "        8.20751499,  8.29390989,  8.38030478,  8.46669968,  8.55309457,\n",
              "        8.63948946,  8.72588436,  8.81227925,  8.89867415,  8.98506904,\n",
              "        9.07146394,  9.15785883,  9.24425373,  9.33064862,  9.41704352,\n",
              "        9.50343841,  9.58983331,  9.6762282 ,  9.7626231 ,  9.84901799,\n",
              "        9.93541288, 10.02180778, 10.10820267, 10.19459757, 10.28099246,\n",
              "       10.36738736, 10.45378225, 10.54017715, 10.62657204, 10.71296694,\n",
              "       10.79936183, 10.88575673, 10.97215162, 11.05854651, 11.14494141,\n",
              "       11.2313363 , 11.3177312 , 11.40412609, 11.49052099, 11.57691588,\n",
              "       11.66331078, 11.74970567, 11.83610057, 11.92249546, 12.00889036,\n",
              "       12.09528525, 12.18168015, 12.26807504, 12.35446993, 12.44086483,\n",
              "       12.52725972, 12.61365462, 12.70004951, 12.78644441, 12.8728393 ,\n",
              "       12.9592342 , 13.04562909, 13.13202399, 13.21841888, 13.30481378,\n",
              "       13.39120867, 13.47760356, 13.56399846, 13.65039335, 13.73678825,\n",
              "       13.82318314, 13.90957804, 13.99597293, 14.08236783, 14.16876272,\n",
              "       14.25515762, 14.34155251, 14.42794741, 14.5143423 , 14.6007372 ,\n",
              "       14.68713209, 14.77352698, 14.85992188, 14.94631677, 15.03271167,\n",
              "       15.11910656, 15.20550146, 15.29189635, 15.37829125, 15.46468614,\n",
              "       15.55108104, 15.63747593, 15.72387083, 15.81026572, 15.89666062,\n",
              "       15.98305551, 16.0694504 , 16.1558453 , 16.24224019, 16.32863509,\n",
              "       16.41502998, 16.50142488, 16.58781977, 16.67421467, 16.76060956,\n",
              "       16.84700446, 16.93339935, 17.01979425, 17.10618914, 17.19258403,\n",
              "       17.27897893, 17.36537382, 17.45176872, 17.53816361, 17.62455851,\n",
              "       17.7109534 , 17.7973483 , 17.88374319, 17.97013809, 18.05653298,\n",
              "       18.14292788, 18.22932277, 18.31571767, 18.40211256, 18.48850745,\n",
              "       18.57490235, 18.66129724, 18.74769214, 18.83408703, 18.92048193,\n",
              "       19.00687682, 19.09327172, 19.17966661, 19.26606151, 19.3524564 ,\n",
              "       19.4388513 , 19.52524619, 19.61164108, 19.69803598, 19.78443087,\n",
              "       19.87082577, 19.95722066, 20.04361556, 20.13001045, 20.21640535,\n",
              "       20.30280024, 20.38919514, 20.47559003, 20.56198493, 20.64837982,\n",
              "       20.73477472, 20.82116961, 20.9075645 , 20.9939594 , 21.08035429,\n",
              "       21.16674919, 21.25314408, 21.33953898, 21.42593387, 21.51232877])"
            ]
          },
          "metadata": {},
          "execution_count": 37
        }
      ],
      "source": [
        "pxi, pfi, polinomio, polinomio_simplificado = valores(xi, fi)\n",
        "pxi"
      ]
    },
    {
      "cell_type": "code",
      "execution_count": null,
      "metadata": {
        "colab": {
          "base_uri": "https://localhost:8080/"
        },
        "id": "v-djU7CplTMb",
        "outputId": "6296154c-c27b-44ec-ea7d-86eab1304085"
      },
      "outputs": [
        {
          "output_type": "execute_result",
          "data": {
            "text/plain": [
              "array([ 6.06414135e+001,  1.05698313e+069, -5.32536231e+067,\n",
              "       -2.17553983e+067, -3.83842532e+070, -3.10004022e+072,\n",
              "       -9.27323876e+073, -3.38382013e+074,  8.23991641e+076,\n",
              "        4.15091609e+078,  1.21206579e+080,  2.11376578e+081,\n",
              "        8.79076702e+080, -1.35775311e+084, -5.25359899e+085,\n",
              "       -1.25086198e+087, -2.17305077e+088, -2.85543172e+089,\n",
              "       -2.74225400e+090, -1.52945976e+091,  5.64433224e+091,\n",
              "        2.91876203e+093,  4.96886563e+094,  6.64049541e+095,\n",
              "        8.34504409e+096,  1.05298468e+098,  1.31045726e+099,\n",
              "        1.51175141e+100,  1.50198664e+101,  1.13228700e+102,\n",
              "        3.32160902e+102, -8.52504927e+103, -2.25657978e+105,\n",
              "       -3.64966432e+106, -4.79472370e+107, -5.51490375e+108,\n",
              "       -5.73455989e+109, -5.47939803e+110, -4.85789552e+111,\n",
              "       -4.01877495e+112, -3.11353434e+113, -2.26252455e+114,\n",
              "       -1.54306387e+115, -9.86669408e+115, -5.90121976e+116,\n",
              "       -3.28802416e+117, -1.69776173e+118, -8.07153092e+118,\n",
              "       -3.52915567e+119, -1.44960454e+120, -6.22051768e+120,\n",
              "       -3.47625129e+121, -2.72674219e+122, -2.45507063e+123,\n",
              "       -2.16191670e+124, -1.77007720e+125, -1.34631915e+126,\n",
              "       -9.58436410e+126, -6.44522775e+127, -4.12350752e+128,\n",
              "       -2.52567198e+129, -1.48841945e+130, -8.47287782e+130,\n",
              "       -4.67805401e+131, -2.51310547e+132, -1.31681175e+133,\n",
              "       -6.75159974e+133, -3.39480767e+134, -1.67872443e+135,\n",
              "       -8.18128736e+135, -3.93659082e+136, -1.87433149e+137,\n",
              "       -8.84260644e+137, -4.13713235e+138, -1.92135065e+139,\n",
              "       -8.85903853e+139, -4.05577159e+140, -1.84296041e+141,\n",
              "       -8.31001830e+141, -3.71642285e+142, -1.64801217e+143,\n",
              "       -7.24399753e+143, -3.15570384e+144, -1.36252110e+145,\n",
              "       -5.83144983e+145, -2.47411351e+146, -1.04107966e+147,\n",
              "       -4.34503286e+147, -1.79961318e+148, -7.39721967e+148,\n",
              "       -3.01814105e+149, -1.22214833e+150, -4.91266946e+150,\n",
              "       -1.95992717e+151, -7.75859471e+151, -3.04681234e+152,\n",
              "       -1.18645049e+153, -4.57927110e+153, -1.75193193e+154,\n",
              "       -6.63948659e+154, -2.49190023e+155, -9.26012170e+155,\n",
              "       -3.40614621e+156, -1.24011095e+157, -4.46756002e+157,\n",
              "       -1.59250989e+158, -5.61630802e+158, -1.95970625e+159,\n",
              "       -6.76526220e+159, -2.31074755e+160, -7.80870343e+160,\n",
              "       -2.61096547e+161, -8.63985541e+161, -2.82949067e+162,\n",
              "       -9.17098754e+162, -2.94256585e+163, -9.34743185e+163,\n",
              "       -2.93953495e+164, -9.15649357e+164, -2.82478606e+165,\n",
              "       -8.63306144e+165, -2.61392478e+166, -7.84400623e+166,\n",
              "       -2.33344471e+167, -6.88203856e+167, -2.01368415e+168,\n",
              "       -5.84546807e+168, -1.68469445e+169, -4.82197984e+169,\n",
              "       -1.37189200e+170, -3.88142062e+170, -1.09323024e+171,\n",
              "       -3.06849782e+171, -8.59273728e+171, -2.40315224e+172,\n",
              "       -6.72387014e+172, -1.88433384e+173, -5.29611964e+173,\n",
              "       -1.49527571e+174, -4.24189311e+174, -1.21144227e+175,\n",
              "       -3.48029959e+175, -1.00653549e+176, -2.92559008e+176,\n",
              "       -8.55160403e+176, -2.50836152e+177, -7.37862655e+177,\n",
              "       -2.17447535e+178, -6.40729262e+178, -1.88716775e+179,\n",
              "       -5.54867479e+179, -1.62672651e+180, -4.75278208e+180,\n",
              "       -1.38326650e+181, -4.00745389e+181, -1.15593472e+182,\n",
              "       -3.31637643e+182, -9.46658653e+182, -2.68727984e+183,\n",
              "       -7.58706366e+183, -2.13042511e+184, -5.94762288e+184,\n",
              "       -1.65154096e+185, -4.56045203e+185, -1.25238539e+186,\n",
              "       -3.42048970e+186, -9.29211959e+186, -2.51067037e+187,\n",
              "       -6.74726989e+187, -1.80394980e+188, -4.79798627e+188,\n",
              "       -1.26952725e+189, -3.34196753e+189, -8.75448741e+189,\n",
              "       -2.28174406e+190, -5.91824293e+190, -1.52752916e+191,\n",
              "       -3.92375582e+191, -1.00307775e+192, -2.55211754e+192,\n",
              "       -6.46306453e+192, -1.62905708e+193,              inf,\n",
              "                    inf,              nan,              nan,\n",
              "                    nan,              nan,              nan,\n",
              "                    nan,              nan,              nan,\n",
              "                    nan,              nan,              nan,\n",
              "                    nan,              nan,              nan,\n",
              "                    nan,              nan,              nan,\n",
              "                    nan,              nan,              nan,\n",
              "                    nan,              nan,              nan,\n",
              "                    nan,              nan,              nan,\n",
              "                    nan,              nan,              nan,\n",
              "                    nan,              nan,              nan,\n",
              "                    nan,              nan,              nan,\n",
              "                    nan,              nan,              nan,\n",
              "                    nan,              nan,              nan,\n",
              "                    nan,              nan,              nan,\n",
              "                    nan,              nan,              nan,\n",
              "                    nan,              nan,              nan,\n",
              "                    nan,              nan,              nan,\n",
              "                    nan,              nan,              nan,\n",
              "                    nan,              nan,              nan,\n",
              "                    nan,              nan,              nan,\n",
              "                    nan,              nan,              nan,\n",
              "                    nan])"
            ]
          },
          "metadata": {},
          "execution_count": 38
        }
      ],
      "source": [
        "pfi"
      ]
    },
    {
      "cell_type": "code",
      "execution_count": null,
      "metadata": {
        "colab": {
          "base_uri": "https://localhost:8080/",
          "height": 60
        },
        "id": "LJ36w5BflWk3",
        "outputId": "a7dd1bd6-7f7a-410b-b2c7-e5309abacd8c"
      },
      "outputs": [
        {
          "output_type": "execute_result",
          "data": {
            "text/plain": [
              "4.29298837745172e-5*X**6 - 0.00383834606686498*X**5 + 0.132237680846249*X**4 - 2.17546050629724*X**3 + 16.7145656294174*X**2 - 44.1168142195001*X + 6.67"
            ],
            "text/latex": "$\\displaystyle 4.29298837745172 \\cdot 10^{-5} X^{6} - 0.00383834606686498 X^{5} + 0.132237680846249 X^{4} - 2.17546050629724 X^{3} + 16.7145656294174 X^{2} - 44.1168142195001 X + 6.67$"
          },
          "metadata": {},
          "execution_count": 51
        }
      ],
      "source": [
        "polinomio_simplificado"
      ]
    },
    {
      "cell_type": "code",
      "execution_count": null,
      "metadata": {
        "colab": {
          "base_uri": "https://localhost:8080/",
          "height": 145
        },
        "id": "4i_NTsDP7lcd",
        "outputId": "3cf5746b-b965-481d-bcf9-99b09a608ea4"
      },
      "outputs": [
        {
          "output_type": "execute_result",
          "data": {
            "text/plain": [
              "-3.04470961938494e-5*X*(X - 28)*(X - 20)*(X - 17)*(X - 13)*(X - 10) + 0.000284193121693122*X*(X - 28)*(X - 20)*(X - 17)*(X - 13)*(X - 6) - 0.000325571254142683*X*(X - 28)*(X - 20)*(X - 17)*(X - 10)*(X - 6) + 0.000174201912169827*X*(X - 28)*(X - 20)*(X - 13)*(X - 10)*(X - 6) - 6.23086734693877e-5*X*(X - 28)*(X - 17)*(X - 13)*(X - 10)*(X - 6) + 1.9636298045389e-6*X*(X - 20)*(X - 17)*(X - 13)*(X - 10)*(X - 6) + 8.98243912949795e-7*(X - 28)*(X - 20)*(X - 17)*(X - 13)*(X - 10)*(X - 6)"
            ],
            "text/latex": "$\\displaystyle - 3.04470961938494 \\cdot 10^{-5} X \\left(X - 28\\right) \\left(X - 20\\right) \\left(X - 17\\right) \\left(X - 13\\right) \\left(X - 10\\right) + 0.000284193121693122 X \\left(X - 28\\right) \\left(X - 20\\right) \\left(X - 17\\right) \\left(X - 13\\right) \\left(X - 6\\right) - 0.000325571254142683 X \\left(X - 28\\right) \\left(X - 20\\right) \\left(X - 17\\right) \\left(X - 10\\right) \\left(X - 6\\right) + 0.000174201912169827 X \\left(X - 28\\right) \\left(X - 20\\right) \\left(X - 13\\right) \\left(X - 10\\right) \\left(X - 6\\right) - 6.23086734693877 \\cdot 10^{-5} X \\left(X - 28\\right) \\left(X - 17\\right) \\left(X - 13\\right) \\left(X - 10\\right) \\left(X - 6\\right) + 1.9636298045389 \\cdot 10^{-6} X \\left(X - 20\\right) \\left(X - 17\\right) \\left(X - 13\\right) \\left(X - 10\\right) \\left(X - 6\\right) + 8.98243912949795 \\cdot 10^{-7} \\left(X - 28\\right) \\left(X - 20\\right) \\left(X - 17\\right) \\left(X - 13\\right) \\left(X - 10\\right) \\left(X - 6\\right)$"
          },
          "metadata": {},
          "execution_count": 47
        }
      ],
      "source": [
        "polinomio"
      ]
    },
    {
      "cell_type": "code",
      "execution_count": null,
      "metadata": {
        "colab": {
          "base_uri": "https://localhost:8080/",
          "height": 735
        },
        "id": "RvL-e_njlX8w",
        "outputId": "21961622-1381-41ef-8134-073605d85def"
      },
      "outputs": [
        {
          "output_type": "stream",
          "name": "stderr",
          "text": [
            "WARNING:matplotlib.legend:No artists with labels found to put in legend.  Note that artists whose label start with an underscore are ignored when legend() is called with no argument.\n"
          ]
        },
        {
          "output_type": "display_data",
          "data": {
            "text/plain": [
              "<Figure size 1500x800 with 1 Axes>"
            ],
            "image/png": "[encoded data removed]"
          },
          "metadata": {}
        }
      ],
      "source": [
        "grafica(xi, fi, pxi, pfi)"
      ]
    },
    {
      "cell_type": "code",
      "execution_count": null,
      "metadata": {
        "id": "ZWo3zFD00WwV"
      },
      "outputs": [],
      "source": [
        "xi = np.array([0, 6, 10, 13, 17, 20, 28])\n",
        "fi = np.array([ 6.67, 17.33, 42.97, 37.33, 30.10, 29.31, 28.74 ])"
      ]
    },
    {
      "cell_type": "code",
      "execution_count": null,
      "metadata": {
        "colab": {
          "base_uri": "https://localhost:8080/"
        },
        "id": "uK027xNU9gMF",
        "outputId": "2bc9dc6d-67fd-43f0-cf15-ab952c9cce66"
      },
      "outputs": [
        {
          "output_type": "execute_result",
          "data": {
            "text/plain": [
              "array([ 0.        ,  0.1124498 ,  0.2248996 ,  0.3373494 ,  0.4497992 ,\n",
              "        0.562249  ,  0.6746988 ,  0.78714859,  0.89959839,  1.01204819,\n",
              "        1.12449799,  1.23694779,  1.34939759,  1.46184739,  1.57429719,\n",
              "        1.68674699,  1.79919679,  1.91164659,  2.02409639,  2.13654618,\n",
              "        2.24899598,  2.36144578,  2.47389558,  2.58634538,  2.69879518,\n",
              "        2.81124498,  2.92369478,  3.03614458,  3.14859438,  3.26104418,\n",
              "        3.37349398,  3.48594378,  3.59839357,  3.71084337,  3.82329317,\n",
              "        3.93574297,  4.04819277,  4.16064257,  4.27309237,  4.38554217,\n",
              "        4.49799197,  4.61044177,  4.72289157,  4.83534137,  4.94779116,\n",
              "        5.06024096,  5.17269076,  5.28514056,  5.39759036,  5.51004016,\n",
              "        5.62248996,  5.73493976,  5.84738956,  5.95983936,  6.07228916,\n",
              "        6.18473896,  6.29718876,  6.40963855,  6.52208835,  6.63453815,\n",
              "        6.74698795,  6.85943775,  6.97188755,  7.08433735,  7.19678715,\n",
              "        7.30923695,  7.42168675,  7.53413655,  7.64658635,  7.75903614,\n",
              "        7.87148594,  7.98393574,  8.09638554,  8.20883534,  8.32128514,\n",
              "        8.43373494,  8.54618474,  8.65863454,  8.77108434,  8.88353414,\n",
              "        8.99598394,  9.10843373,  9.22088353,  9.33333333,  9.44578313,\n",
              "        9.55823293,  9.67068273,  9.78313253,  9.89558233, 10.00803213,\n",
              "       10.12048193, 10.23293173, 10.34538153, 10.45783133, 10.57028112,\n",
              "       10.68273092, 10.79518072, 10.90763052, 11.02008032, 11.13253012,\n",
              "       11.24497992, 11.35742972, 11.46987952, 11.58232932, 11.69477912,\n",
              "       11.80722892, 11.91967871, 12.03212851, 12.14457831, 12.25702811,\n",
              "       12.36947791, 12.48192771, 12.59437751, 12.70682731, 12.81927711,\n",
              "       12.93172691, 13.04417671, 13.15662651, 13.26907631, 13.3815261 ,\n",
              "       13.4939759 , 13.6064257 , 13.7188755 , 13.8313253 , 13.9437751 ,\n",
              "       14.0562249 , 14.1686747 , 14.2811245 , 14.3935743 , 14.5060241 ,\n",
              "       14.6184739 , 14.73092369, 14.84337349, 14.95582329, 15.06827309,\n",
              "       15.18072289, 15.29317269, 15.40562249, 15.51807229, 15.63052209,\n",
              "       15.74297189, 15.85542169, 15.96787149, 16.08032129, 16.19277108,\n",
              "       16.30522088, 16.41767068, 16.53012048, 16.64257028, 16.75502008,\n",
              "       16.86746988, 16.97991968, 17.09236948, 17.20481928, 17.31726908,\n",
              "       17.42971888, 17.54216867, 17.65461847, 17.76706827, 17.87951807,\n",
              "       17.99196787, 18.10441767, 18.21686747, 18.32931727, 18.44176707,\n",
              "       18.55421687, 18.66666667, 18.77911647, 18.89156627, 19.00401606,\n",
              "       19.11646586, 19.22891566, 19.34136546, 19.45381526, 19.56626506,\n",
              "       19.67871486, 19.79116466, 19.90361446, 20.01606426, 20.12851406,\n",
              "       20.24096386, 20.35341365, 20.46586345, 20.57831325, 20.69076305,\n",
              "       20.80321285, 20.91566265, 21.02811245, 21.14056225, 21.25301205,\n",
              "       21.36546185, 21.47791165, 21.59036145, 21.70281124, 21.81526104,\n",
              "       21.92771084, 22.04016064, 22.15261044, 22.26506024, 22.37751004,\n",
              "       22.48995984, 22.60240964, 22.71485944, 22.82730924, 22.93975904,\n",
              "       23.05220884, 23.16465863, 23.27710843, 23.38955823, 23.50200803,\n",
              "       23.61445783, 23.72690763, 23.83935743, 23.95180723, 24.06425703,\n",
              "       24.17670683, 24.28915663, 24.40160643, 24.51405622, 24.62650602,\n",
              "       24.73895582, 24.85140562, 24.96385542, 25.07630522, 25.18875502,\n",
              "       25.30120482, 25.41365462, 25.52610442, 25.63855422, 25.75100402,\n",
              "       25.86345382, 25.97590361, 26.08835341, 26.20080321, 26.31325301,\n",
              "       26.42570281, 26.53815261, 26.65060241, 26.76305221, 26.87550201,\n",
              "       26.98795181, 27.10040161, 27.21285141, 27.3253012 , 27.437751  ,\n",
              "       27.5502008 , 27.6626506 , 27.7751004 , 27.8875502 , 28.        ])"
            ]
          },
          "metadata": {},
          "execution_count": 43
        }
      ],
      "source": [
        "pxi, pfi, polinomio, polinomio_simplificado = valores(xi, fi)\n",
        "pxi"
      ]
    },
    {
      "cell_type": "code",
      "execution_count": null,
      "metadata": {
        "colab": {
          "base_uri": "https://localhost:8080/"
        },
        "id": "M5LSx_OG9jPi",
        "outputId": "ef232b92-7ed0-4359-ad70-a551ba5b2a15"
      },
      "outputs": [
        {
          "output_type": "execute_result",
          "data": {
            "text/plain": [
              "array([  6.67      ,   1.91735581,  -2.43084452,  -6.39241011,\n",
              "        -9.98465908, -13.22442664, -16.12807313, -18.71149208,\n",
              "       -20.9901181 , -22.97893476, -24.69248245, -26.14486605,\n",
              "       -27.3497627 , -28.32042937, -29.06971043, -29.61004519,\n",
              "       -29.95347528, -30.11165208, -30.09584398, -29.9169437 ,\n",
              "       -29.58547539, -29.11160183, -28.50513146, -27.77552538,\n",
              "       -26.93190431, -25.98305542, -24.9374392 , -23.80319617,\n",
              "       -22.58815358, -21.29983204, -19.94545209, -18.53194066,\n",
              "       -17.06593757, -15.55380186, -14.00161811, -12.41520271,\n",
              "       -10.80011004,  -9.16163857,  -7.50483696,  -5.83451005,\n",
              "        -4.15522477,  -2.47131607,  -0.78689267,   0.89415714,\n",
              "         2.56815982,   4.23165098,   5.88136981,   7.51425353,\n",
              "         9.12743204,  10.71822246,  12.28412386,  13.82281203,\n",
              "        15.33213423,  16.8101041 ,  18.25489662,  19.66484307,\n",
              "        21.0384261 ,  22.37427486,  23.67116021,  24.92798991,\n",
              "        26.14380401,  27.31777014,  28.44917902,  29.53743992,\n",
              "        30.58207623,  31.58272108,  32.53911303,  33.45109182,\n",
              "        34.31859421,  35.14164978,  35.92037694,  36.65497892,\n",
              "        37.34573976,  37.99302055,  38.59725551,  39.15894831,\n",
              "        39.67866833,  40.1570471 ,  40.59477465,  40.99259609,\n",
              "        41.35130813,  41.67175569,  41.95482865,  42.20145851,\n",
              "        42.4126153 ,  42.58930435,  42.73256331,  42.84345913,\n",
              "        42.92308509,  42.97255794,  42.99301511,  42.98561193,\n",
              "        42.95151896,  42.89191934,  42.80800626,  42.70098043,\n",
              "        42.57204766,  42.42241649,  42.25329583,  42.06589277,\n",
              "        41.86141036,  41.64104549,  41.40598682,  41.15741278,\n",
              "        40.89648965,  40.62436966,  40.34218919,  40.05106702,\n",
              "        39.75210261,  39.44637455,  39.13493891,  38.81882778,\n",
              "        38.49904784,  38.17657897,  37.85237293,  37.52735212,\n",
              "        37.20240841,  36.87840195,  36.5561602 ,  36.23647683,\n",
              "        35.92011087,  35.60778577,  35.30018861,  34.99796937,\n",
              "        34.7017402 ,  34.41207482,  34.12950795,  33.85453483,\n",
              "        33.58761072,  33.32915061,  33.07952883,  32.83907885,\n",
              "        32.60809305,  32.38682264,  32.17547756,  31.97422649,\n",
              "        31.78319692,  31.60247526,  31.43210704,  31.27209713,\n",
              "        31.12241011,  30.98297058,  30.85366363,  30.73433533,\n",
              "        30.62479329,  30.52480729,  30.43410999,  30.3523976 ,\n",
              "        30.27933078,  30.21453548,  30.15760386,  30.1080953 ,\n",
              "        30.06553747,  30.02942744,  29.9992329 ,  29.97439336,\n",
              "        29.95432148,  29.93840445,  29.92600545,  29.91646509,\n",
              "        29.90910301,  29.90321953,  29.89809725,  29.8930029 ,\n",
              "        29.88718908,  29.87989616,  29.87035423,  29.85778505,\n",
              "        29.84140418,  29.82042305,  29.79405116,  29.76149835,\n",
              "        29.72197706,  29.67470478,  29.61890641,  29.55381681,\n",
              "        29.47868335,  29.39276849,  29.29535255,  29.18573638,\n",
              "        29.06324423,  28.92722656,  28.77706304,  28.61216552,\n",
              "        28.43198108,  28.23599518,  28.02373483,  27.79477183,\n",
              "        27.54872611,  27.28526906,  27.00412701,  26.70508472,\n",
              "        26.3879889 ,  26.0527519 ,  25.69935534,  25.32785388,\n",
              "        24.93837904,  24.53114306,  24.10644284,  23.66466394,\n",
              "        23.20628464,  22.73188006,  22.24212635,  21.73780495,\n",
              "        21.21980687,  20.6891371 ,  20.14691902,  19.59439891,\n",
              "        19.0329505 ,  18.46407961,  17.88942883,  17.31078226,\n",
              "        16.73007033,  16.14937467,  15.57093305,  14.99714437,\n",
              "        14.43057373,  13.87395755,  13.33020874,  12.80242199,\n",
              "        12.29387904,  11.80805407,  11.34861913,  10.91944965,\n",
              "        10.52463   ,  10.16845909,   9.85545608,   9.59036613,\n",
              "         9.37816619,   9.22407089,   9.13353847,   9.11227679,\n",
              "         9.16624937,   9.30168152,   9.52506655,   9.84317198,\n",
              "        10.26304587,  10.79202321,  11.43773232,  12.20810137,\n",
              "        13.11136494,  14.15607066,  15.35108584,  16.70560428,\n",
              "        18.22915306,  19.93159938,  21.82315757,  23.914396  ,\n",
              "        26.21624421,  28.74      ])"
            ]
          },
          "metadata": {},
          "execution_count": 44
        }
      ],
      "source": [
        "pfi"
      ]
    },
    {
      "cell_type": "code",
      "execution_count": null,
      "metadata": {
        "colab": {
          "base_uri": "https://localhost:8080/",
          "height": 60
        },
        "id": "sOiisEPP9kyE",
        "outputId": "942a832b-8f3b-4ecc-e399-4b0dfd215dbf"
      },
      "outputs": [
        {
          "output_type": "execute_result",
          "data": {
            "text/plain": [
              "4.29298837745172e-5*X**6 - 0.00383834606686498*X**5 + 0.132237680846249*X**4 - 2.17546050629724*X**3 + 16.7145656294174*X**2 - 44.1168142195001*X + 6.67"
            ],
            "text/latex": "$\\displaystyle 4.29298837745172 \\cdot 10^{-5} X^{6} - 0.00383834606686498 X^{5} + 0.132237680846249 X^{4} - 2.17546050629724 X^{3} + 16.7145656294174 X^{2} - 44.1168142195001 X + 6.67$"
          },
          "metadata": {},
          "execution_count": 52
        }
      ],
      "source": [
        "polinomio_simplificado"
      ]
    },
    {
      "cell_type": "code",
      "execution_count": null,
      "metadata": {
        "colab": {
          "base_uri": "https://localhost:8080/",
          "height": 735
        },
        "id": "VXXZuQOB9qUj",
        "outputId": "b565f9a1-ff21-45c5-eef8-d6fbd633e7a4"
      },
      "outputs": [
        {
          "output_type": "stream",
          "name": "stderr",
          "text": [
            "WARNING:matplotlib.legend:No artists with labels found to put in legend.  Note that artists whose label start with an underscore are ignored when legend() is called with no argument.\n"
          ]
        },
        {
          "output_type": "display_data",
          "data": {
            "text/plain": [
              "<Figure size 1500x800 with 1 Axes>"
            ],
            "image/png": "[encoded data removed]"
          },
          "metadata": {}
        }
      ],
      "source": [
        "grafica(xi, fi, pxi, pfi)"
      ]
    },
    {
      "cell_type": "code",
      "execution_count": null,
      "metadata": {
        "colab": {
          "base_uri": "https://localhost:8080/",
          "height": 472
        },
        "id": "QmdY_E8QEHx5",
        "outputId": "6b059b74-0060-4ed4-be5b-2dfa7882b2f6"
      },
      "outputs": [
        {
          "output_type": "display_data",
          "data": {
            "text/plain": [
              "<Figure size 640x480 with 1 Axes>"
            ],
            "image/png": "[encoded data removed]"
          },
          "metadata": {}
        }
      ],
      "source": [
        "def lagrange_polynomial(x_points, y_points):\n",
        "    def L(x, j):\n",
        "        term = [(x - x_points[m]) / (x_points[j] - x_points[m]) for m in range(len(x_points)) if m != j]\n",
        "        return np.prod(term, axis=0)\n",
        "\n",
        "    def P(x):\n",
        "        return sum(y_points[j] * L(x, j) for j in range(len(x_points)))\n",
        "\n",
        "    return P\n",
        "\n",
        "# Puntos de ejemplo (puedes modificarlos o pedir al usuario que ingrese los valores)\n",
        "x_points = num_dias_0\n",
        "y_points = valores_0\n",
        "\n",
        "# Crear el polinomio de Lagrange\n",
        "polynomial = lagrange_polynomial(x_points, y_points)\n",
        "\n",
        "# Puntos para la gráfica\n",
        "x_values = np.linspace(min(x_points) - 1, max(x_points) + 1, 100)\n",
        "y_values = polynomial(x_values)\n",
        "\n",
        "# Graficar\n",
        "plt.plot(x_values, y_values, label=\"Polinomio de Lagrange\", color=\"blue\")\n",
        "plt.scatter(x_points, y_points, color=\"red\", label=\"Puntos dados\")\n",
        "plt.xlabel(\"x\")\n",
        "plt.ylabel(\"y\")\n",
        "plt.title(\"Interpolación de Lagrange\")\n",
        "plt.legend()\n",
        "plt.grid(True)\n",
        "plt.show()\n"
      ]
    },
    {
      "cell_type": "code",
      "execution_count": null,
      "metadata": {
        "colab": {
          "base_uri": "https://localhost:8080/",
          "height": 141
        },
        "id": "BVX425eKFVq6",
        "outputId": "d5351220-2bf6-4450-f31b-2cfe9b10fb84"
      },
      "outputs": [
        {
          "output_type": "error",
          "ename": "NameError",
          "evalue": "name 'P' is not defined",
          "traceback": [
            "\u001b[0;31m---------------------------------------------------------------------------\u001b[0m",
            "\u001b[0;31mNameError\u001b[0m                                 Traceback (most recent call last)",
            "\u001b[0;32m<ipython-input-49-c7e47e11af57>\u001b[0m in \u001b[0;36m<cell line: 1>\u001b[0;34m()\u001b[0m\n\u001b[0;32m----> 1\u001b[0;31m \u001b[0mP\u001b[0m\u001b[0;34m\u001b[0m\u001b[0;34m\u001b[0m\u001b[0m\n\u001b[0m",
            "\u001b[0;31mNameError\u001b[0m: name 'P' is not defined"
          ]
        }
      ],
      "source": [
        "P"
      ]
    },
    {
      "cell_type": "code",
      "execution_count": null,
      "metadata": {
        "colab": {
          "base_uri": "https://localhost:8080/"
        },
        "id": "4nObZumHF8M4",
        "outputId": "a8aa4d82-74a2-4ba1-edd1-cc68df46fd41"
      },
      "outputs": [
        {
          "output_type": "execute_result",
          "data": {
            "text/plain": [
              "array([ 5.52380247e+94,  4.80373531e+90,  1.65381252e+86,  1.36061120e+81,\n",
              "        3.76353229e+74, -5.05453727e+67,  2.21184170e+62,  2.60050322e+57,\n",
              "       -1.16574683e+54,  3.73947928e+50, -2.00808474e+47,  1.23095049e+44,\n",
              "       -7.09781383e+40, -1.41877343e+36,  1.14516230e+35, -1.11566412e+33,\n",
              "        6.22179386e+30, -3.18948543e+28,  1.88096589e+26, -1.11910949e+24,\n",
              "       -6.84653303e+20,  1.91028499e+20, -4.67413638e+18,  1.28653448e+17,\n",
              "       -3.22447485e+15,  7.43450021e+13, -1.11776520e+12, -4.44502962e+10,\n",
              "        6.77111736e+09, -5.11189599e+08,  3.09285823e+07, -2.89109458e+06,\n",
              "        1.67314881e+05,  1.36072893e+03, -2.43277218e+03,  6.17176036e+02,\n",
              "       -6.07048356e+01,  1.09181280e+02,  7.72307146e+01,  8.26194828e+01,\n",
              "        8.24587105e+01,  8.27155150e+01,  8.36282893e+01,  8.38800731e+01,\n",
              "        8.43225665e+01,  8.46175264e+01,  8.44125417e+01,  8.59128962e+01,\n",
              "        8.62711712e+01,  8.65385675e+01,  8.72397033e+01,  8.82470216e+01,\n",
              "        8.86637389e+01,  8.92373192e+01,  8.97348969e+01,  8.99578614e+01,\n",
              "        9.05756654e+01,  9.12580052e+01,  9.15520039e+01,  9.20791668e+01,\n",
              "        9.29070534e+01,  9.09209139e+01,  1.08530599e+02,  1.77212098e+01,\n",
              "        4.55979951e+02, -1.29700788e+03, -1.56055851e+03,  1.02505932e+05,\n",
              "       -1.40417328e+06,  2.66243183e+07, -3.78106858e+08,  4.01245637e+09,\n",
              "       -1.64164325e+10, -2.47365463e+11,  4.93973801e+13, -2.50943631e+15,\n",
              "        1.04639963e+17, -4.08439389e+18,  1.59564964e+20, -5.50629778e+20,\n",
              "       -8.68843069e+23,  1.40771681e+26, -2.63942046e+28,  4.78764587e+30,\n",
              "       -8.70459751e+32,  1.57244426e+35,  1.70134521e+37, -7.08218745e+40,\n",
              "        9.39771767e+43, -1.27156468e+47,  3.75102031e+50, -1.18967987e+54,\n",
              "        2.20883464e+57,  1.90581726e+62, -3.99004985e+67,  3.44728790e+74,\n",
              "        1.23048526e+81,  1.48653983e+86,  4.30593871e+90,  4.94584968e+94])"
            ]
          },
          "metadata": {},
          "execution_count": 50
        }
      ],
      "source": [
        "y_values"
      ]
    },
    {
      "cell_type": "code",
      "execution_count": null,
      "metadata": {
        "id": "lzW1cgZvGvOG"
      },
      "outputs": [],
      "source": []
    }
  ],
  "metadata": {
    "colab": {
      "provenance": []
    },
    "kernelspec": {
      "display_name": "Python 3",
      "name": "python3"
    },
    "language_info": {
      "name": "python"
    }
  },
  "nbformat": 4,
  "nbformat_minor": 0
}