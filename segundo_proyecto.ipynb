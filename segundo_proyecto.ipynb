{
  "nbformat": 4,
  "nbformat_minor": 0,
  "metadata": {
    "colab": {
      "provenance": []
    },
    "kernelspec": {
      "name": "python3",
      "display_name": "Python 3"
    },
    "language_info": {
      "name": "python"
    }
  },
  "cells": [
    {
      "cell_type": "code",
      "execution_count": null,
      "metadata": {
        "colab": {
          "base_uri": "https://localhost:8080/",
          "height": 335
        },
        "id": "QyreADYINLew",
        "outputId": "39a6a2f4-fa5c-4ce8-c53e-fa2baab3274d"
      },
      "outputs": [
        {
          "output_type": "error",
          "ename": "ValueError",
          "evalue": "mount failed",
          "traceback": [
            "\u001b[0;31m---------------------------------------------------------------------------\u001b[0m",
            "\u001b[0;31mValueError\u001b[0m                                Traceback (most recent call last)",
            "\u001b[0;32m<ipython-input-1-a403ca69dc4e>\u001b[0m in \u001b[0;36m<cell line: 7>\u001b[0;34m()\u001b[0m\n\u001b[1;32m      5\u001b[0m \u001b[0;32mfrom\u001b[0m \u001b[0msympy\u001b[0m \u001b[0;32mimport\u001b[0m \u001b[0;34m*\u001b[0m\u001b[0;34m\u001b[0m\u001b[0;34m\u001b[0m\u001b[0m\n\u001b[1;32m      6\u001b[0m \u001b[0;32mimport\u001b[0m \u001b[0mmatplotlib\u001b[0m\u001b[0;34m.\u001b[0m\u001b[0mpyplot\u001b[0m \u001b[0;32mas\u001b[0m \u001b[0mplt\u001b[0m\u001b[0;34m\u001b[0m\u001b[0;34m\u001b[0m\u001b[0m\n\u001b[0;32m----> 7\u001b[0;31m \u001b[0mdrive\u001b[0m\u001b[0;34m.\u001b[0m\u001b[0mmount\u001b[0m\u001b[0;34m(\u001b[0m\u001b[0;34m'/content/drive'\u001b[0m\u001b[0;34m)\u001b[0m\u001b[0;34m\u001b[0m\u001b[0;34m\u001b[0m\u001b[0m\n\u001b[0m",
            "\u001b[0;32m/usr/local/lib/python3.10/dist-packages/google/colab/drive.py\u001b[0m in \u001b[0;36mmount\u001b[0;34m(mountpoint, force_remount, timeout_ms, readonly)\u001b[0m\n\u001b[1;32m     98\u001b[0m \u001b[0;32mdef\u001b[0m \u001b[0mmount\u001b[0m\u001b[0;34m(\u001b[0m\u001b[0mmountpoint\u001b[0m\u001b[0;34m,\u001b[0m \u001b[0mforce_remount\u001b[0m\u001b[0;34m=\u001b[0m\u001b[0;32mFalse\u001b[0m\u001b[0;34m,\u001b[0m \u001b[0mtimeout_ms\u001b[0m\u001b[0;34m=\u001b[0m\u001b[0;36m120000\u001b[0m\u001b[0;34m,\u001b[0m \u001b[0mreadonly\u001b[0m\u001b[0;34m=\u001b[0m\u001b[0;32mFalse\u001b[0m\u001b[0;34m)\u001b[0m\u001b[0;34m:\u001b[0m\u001b[0;34m\u001b[0m\u001b[0;34m\u001b[0m\u001b[0m\n\u001b[1;32m     99\u001b[0m   \u001b[0;34m\"\"\"Mount your Google Drive at the specified mountpoint path.\"\"\"\u001b[0m\u001b[0;34m\u001b[0m\u001b[0;34m\u001b[0m\u001b[0m\n\u001b[0;32m--> 100\u001b[0;31m   return _mount(\n\u001b[0m\u001b[1;32m    101\u001b[0m       \u001b[0mmountpoint\u001b[0m\u001b[0;34m,\u001b[0m\u001b[0;34m\u001b[0m\u001b[0;34m\u001b[0m\u001b[0m\n\u001b[1;32m    102\u001b[0m       \u001b[0mforce_remount\u001b[0m\u001b[0;34m=\u001b[0m\u001b[0mforce_remount\u001b[0m\u001b[0;34m,\u001b[0m\u001b[0;34m\u001b[0m\u001b[0;34m\u001b[0m\u001b[0m\n",
            "\u001b[0;32m/usr/local/lib/python3.10/dist-packages/google/colab/drive.py\u001b[0m in \u001b[0;36m_mount\u001b[0;34m(mountpoint, force_remount, timeout_ms, ephemeral, readonly)\u001b[0m\n\u001b[1;32m    275\u001b[0m             \u001b[0;34m'https://research.google.com/colaboratory/faq.html#drive-timeout'\u001b[0m\u001b[0;34m\u001b[0m\u001b[0;34m\u001b[0m\u001b[0m\n\u001b[1;32m    276\u001b[0m         )\n\u001b[0;32m--> 277\u001b[0;31m       \u001b[0;32mraise\u001b[0m \u001b[0mValueError\u001b[0m\u001b[0;34m(\u001b[0m\u001b[0;34m'mount failed'\u001b[0m \u001b[0;34m+\u001b[0m \u001b[0mextra_reason\u001b[0m\u001b[0;34m)\u001b[0m\u001b[0;34m\u001b[0m\u001b[0;34m\u001b[0m\u001b[0m\n\u001b[0m\u001b[1;32m    278\u001b[0m     \u001b[0;32melif\u001b[0m \u001b[0mcase\u001b[0m \u001b[0;34m==\u001b[0m \u001b[0;36m4\u001b[0m\u001b[0;34m:\u001b[0m\u001b[0;34m\u001b[0m\u001b[0;34m\u001b[0m\u001b[0m\n\u001b[1;32m    279\u001b[0m       \u001b[0;31m# Terminate the DriveFS binary before killing bash.\u001b[0m\u001b[0;34m\u001b[0m\u001b[0;34m\u001b[0m\u001b[0m\n",
            "\u001b[0;31mValueError\u001b[0m: mount failed"
          ]
        }
      ],
      "source": [
        "import pandas as pd\n",
        "import numpy as np\n",
        "from datetime import date\n",
        "from google.colab import drive\n",
        "from sympy import *\n",
        "import matplotlib.pyplot as plt\n",
        "drive.mount('/content/drive')"
      ]
    },
    {
      "cell_type": "code",
      "source": [
        "datos = \"/content/drive/MyDrive/Segundo_Proyecto.xlsx\""
      ],
      "metadata": {
        "id": "pYpiZNoANQl0"
      },
      "execution_count": null,
      "outputs": []
    },
    {
      "cell_type": "code",
      "source": [
        "dataframe = pd.DataFrame(pd.read_excel(datos))\n",
        "dataframe"
      ],
      "metadata": {
        "id": "A3SRu_GTNUK-"
      },
      "execution_count": null,
      "outputs": []
    },
    {
      "cell_type": "code",
      "source": [
        "len(dataframe)"
      ],
      "metadata": {
        "id": "BIRKpiUWaan_"
      },
      "execution_count": null,
      "outputs": []
    },
    {
      "cell_type": "code",
      "source": [
        "fecha_inicial = dataframe.loc()[0][0]\n",
        "fecha_inicial\n",
        "for i in dataframe[\"Fecha\"]:\n",
        "  dias = (i - fecha_inicial).days\n",
        "  dataframe.loc[dataframe[\"Fecha\"] == i, \"Dias\"] = dias\n",
        "dataframe"
      ],
      "metadata": {
        "id": "DL3BRUGpUiWT"
      },
      "execution_count": null,
      "outputs": []
    },
    {
      "cell_type": "code",
      "source": [
        "dias = []\n",
        "for i in dataframe[\"Dias\"]:\n",
        "  dias.append(i)\n",
        "dias = np.array(dias)\n",
        "len(dias)"
      ],
      "metadata": {
        "id": "gFDJ3I_tbVWX"
      },
      "execution_count": null,
      "outputs": []
    },
    {
      "cell_type": "code",
      "source": [
        "valores = []\n",
        "for i in dataframe[\"SF60714\"]:\n",
        "  valores.append(i)\n",
        "valores = np.array(valores)\n",
        "len(valores)"
      ],
      "metadata": {
        "id": "yg8bJvOXbcfn"
      },
      "execution_count": null,
      "outputs": []
    },
    {
      "cell_type": "code",
      "source": [
        "x = Symbol('X')\n",
        "def polinomio_lagrange(xi, fi):\n",
        "  polinomio = 0\n",
        "  for i in range(len(xi)):\n",
        "    numerador = 1\n",
        "    denominador = 1\n",
        "    for j in range(len(xi)):\n",
        "      if j != i:\n",
        "        numerador = numerador * (x - xi[j])\n",
        "        denominador = denominador * (xi[i] - xi[j])\n",
        "    termino_lagrange = (numerador / denominador)\n",
        "    polinomio = polinomio + termino_lagrange * fi[i]\n",
        "  return polinomio"
      ],
      "metadata": {
        "id": "v8cm4gmtRGop"
      },
      "execution_count": null,
      "outputs": []
    },
    {
      "cell_type": "code",
      "source": [
        "\n",
        "def valores(xi, fi):\n",
        "  polinomio = polinomio_lagrange(xi, fi)\n",
        "  polinomio_simplificado = polinomio.expand()\n",
        "  px = lambdify(x, polinomio_simplificado)\n",
        "  muestras = 100\n",
        "  a, b = min(xi), max(xi)\n",
        "  pxi = np.linspace(a, b, muestras)\n",
        "  pfi = px(pxi)\n",
        "  return pxi, pfi, polinomio, polinomio_simplificado"
      ],
      "metadata": {
        "id": "Pk0K9u6CRcCe"
      },
      "execution_count": null,
      "outputs": []
    },
    {
      "cell_type": "code",
      "source": [
        "def grafica(xi, fi, pxi, pfi):\n",
        "  plt.subplots(figsize = (15, 8))\n",
        "  plt.plot(xi, fi, \"o\")\n",
        "  plt.plot(pxi, pfi)\n",
        "  plt.legend()\n",
        "  plt.grid(1)\n",
        "  plt.xlabel(\"Años\")\n",
        "  plt.ylabel(\"Valor\")\n",
        "  plt.title(\"Interpolacion de Lagrange\")"
      ],
      "metadata": {
        "id": "x1o5njluR5MG"
      },
      "execution_count": null,
      "outputs": []
    },
    {
      "cell_type": "code",
      "source": [
        "x = valores\n",
        "f = dias\n",
        "len(valores)"
      ],
      "metadata": {
        "id": "uV5e1oY0R7Hq"
      },
      "execution_count": null,
      "outputs": []
    },
    {
      "cell_type": "code",
      "source": [
        "pxi, pfi, polinomio, polinomio_simplificado = valores(valores, dias)\n",
        "pxi"
      ],
      "metadata": {
        "id": "mmBQhRiZTuSt"
      },
      "execution_count": null,
      "outputs": []
    },
    {
      "cell_type": "code",
      "source": [
        "pfi"
      ],
      "metadata": {
        "id": "V7Y2ioJzSClM"
      },
      "execution_count": null,
      "outputs": []
    },
    {
      "cell_type": "code",
      "source": [
        "polinomio"
      ],
      "metadata": {
        "id": "2UZznXPiSRpN"
      },
      "execution_count": null,
      "outputs": []
    },
    {
      "cell_type": "code",
      "source": [
        "polinomio_simplificado"
      ],
      "metadata": {
        "id": "ZDlYZlaISTBV"
      },
      "execution_count": null,
      "outputs": []
    },
    {
      "cell_type": "code",
      "source": [
        "grafica(xi, fi, pxi, pfi)"
      ],
      "metadata": {
        "id": "R2F6PtC-SUoU"
      },
      "execution_count": null,
      "outputs": []
    },
    {
      "cell_type": "code",
      "source": [
        "xi = np.array([2003, 2004, 2005, 2006, 2007])\n",
        "fi = np.array([ 60.05, 64.68, 67.09, 69.92, 72.01 ])"
      ],
      "metadata": {
        "id": "g7aLTZoMSYe0"
      },
      "execution_count": null,
      "outputs": []
    },
    {
      "cell_type": "code",
      "source": [
        "pxi, pfi, polinomio, polinomio_simplificado = valores(xi, fi)\n",
        "grafica(xi, fi, pxi, pfi)"
      ],
      "metadata": {
        "id": "jRc6g4_JSd4x"
      },
      "execution_count": null,
      "outputs": []
    },
    {
      "cell_type": "code",
      "source": [
        "def lagrange_polynomial(x_points, y_points):\n",
        "    def L(x, j):\n",
        "        term = [(x - x_points[m]) / (x_points[j] - x_points[m]) for m in range(len(x_points)) if m != j]\n",
        "        return np.prod(term, axis=0)\n",
        "\n",
        "    def P(x):\n",
        "        return sum(y_points[j] * L(x, j) for j in range(len(x_points)))\n",
        "\n",
        "    return P\n",
        "\n",
        "# Puntos de ejemplo (puedes modificarlos o pedir al usuario que ingrese los valores)\n",
        "x_points = dias\n",
        "y_points = valores\n",
        "\n",
        "# Crear el polinomio de Lagrange\n",
        "polynomial = lagrange_polynomial(x_points, y_points)\n",
        "\n",
        "# Puntos para la gráfica\n",
        "x_values = np.linspace(min(x_points) - 1, max(x_points) + 1, 100)\n",
        "y_values = polynomial(x_values)\n",
        "\n",
        "# Graficar\n",
        "plt.plot(x_values, y_values, label=\"Polinomio de Lagrange\", color=\"blue\")\n",
        "plt.scatter(x_points, y_points, color=\"red\", label=\"Puntos dados\")\n",
        "plt.xlabel(\"x\")\n",
        "plt.ylabel(\"y\")\n",
        "plt.title(\"Interpolación de Lagrange\")\n",
        "plt.legend()\n",
        "plt.grid(True)\n",
        "plt.show()"
      ],
      "metadata": {
        "id": "PLL15GUbSgmz"
      },
      "execution_count": null,
      "outputs": []
    },
    {
      "cell_type": "code",
      "source": [],
      "metadata": {
        "id": "Z5k1Yq49SwJV"
      },
      "execution_count": null,
      "outputs": []
    }
  ]
}